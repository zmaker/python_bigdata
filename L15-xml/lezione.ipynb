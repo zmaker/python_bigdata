{
 "cells": [
  {
   "cell_type": "markdown",
   "metadata": {},
   "source": [
    "## XML ##\n",
    "\n",
    "DOM "
   ]
  },
  {
   "cell_type": "code",
   "execution_count": 2,
   "metadata": {},
   "outputs": [],
   "source": [
    "from xml.dom import minidom\n",
    "doc = minidom.parse(\"example.xml\")"
   ]
  },
  {
   "cell_type": "code",
   "execution_count": 3,
   "metadata": {},
   "outputs": [
    {
     "name": "stdout",
     "output_type": "stream",
     "text": [
      "catalog\n"
     ]
    }
   ],
   "source": [
    "print(doc.firstChild.tagName)"
   ]
  },
  {
   "cell_type": "code",
   "execution_count": 6,
   "metadata": {},
   "outputs": [
    {
     "name": "stdout",
     "output_type": "stream",
     "text": [
      "12\n",
      "book id:  bk101\n",
      "book id:  bk102\n",
      "book id:  bk103\n",
      "book id:  bk104\n",
      "book id:  bk105\n",
      "book id:  bk106\n",
      "book id:  bk107\n",
      "book id:  bk108\n",
      "book id:  bk109\n",
      "book id:  bk110\n",
      "book id:  bk111\n",
      "book id:  bk112\n"
     ]
    }
   ],
   "source": [
    "books = doc.getElementsByTagName(\"book\")\n",
    "print(len(books))\n",
    "\n",
    "for b in books:\n",
    "    print(\"book id: \", b.getAttribute(\"id\"))"
   ]
  },
  {
   "cell_type": "code",
   "execution_count": 7,
   "metadata": {},
   "outputs": [
    {
     "name": "stdout",
     "output_type": "stream",
     "text": [
      "Gambardella, Matthew\n"
     ]
    }
   ],
   "source": [
    "aut = books[0].getElementsByTagName(\"author\")\n",
    "nd = aut[0].firstChild.nodeValue\n",
    "print(nd)"
   ]
  }
 ],
 "metadata": {
  "kernelspec": {
   "display_name": "Python 3",
   "language": "python",
   "name": "python3"
  },
  "language_info": {
   "codemirror_mode": {
    "name": "ipython",
    "version": 3
   },
   "file_extension": ".py",
   "mimetype": "text/x-python",
   "name": "python",
   "nbconvert_exporter": "python",
   "pygments_lexer": "ipython3",
   "version": "3.12.3"
  }
 },
 "nbformat": 4,
 "nbformat_minor": 2
}
