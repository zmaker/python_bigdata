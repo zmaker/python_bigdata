{
 "cells": [
  {
   "cell_type": "markdown",
   "metadata": {},
   "source": [
    "## SQL ##\n",
    "\n",
    "visita il sito sqlite3\n",
    "\n",
    "tool: sqlitestudio\n",
    "\n",
    "creazione di un database:"
   ]
  },
  {
   "cell_type": "code",
   "execution_count": 1,
   "metadata": {},
   "outputs": [],
   "source": [
    "import sqlite3\n",
    "conn = sqlite3.connect(\"archivio.db\")\n",
    "conn.close()"
   ]
  },
  {
   "cell_type": "markdown",
   "metadata": {},
   "source": [
    "Crea un database con sqlite e aggiungi una tabella.\n",
    "tab: magazzino\n",
    "colonne: mid, prodotto, prezzo, qta\n"
   ]
  },
  {
   "cell_type": "code",
   "execution_count": 2,
   "metadata": {},
   "outputs": [
    {
     "name": "stdout",
     "output_type": "stream",
     "text": [
      "1: caffè\n",
      "2: mele\n",
      "3: pere\n",
      "4: kiwi\n"
     ]
    }
   ],
   "source": [
    "conn = sqlite3.connect(\"pythondb.db\")\n",
    "cur = conn.cursor()\n",
    "cur.execute(\"select mid, prodotto, prezzo, qta from magazzino\")\n",
    "for row in cur.fetchall():\n",
    "    mid, prodotto, prezzo, qta = row\n",
    "    print(f\"{mid}: {prodotto}\")\n",
    "\n",
    "conn.close()"
   ]
  },
  {
   "cell_type": "code",
   "execution_count": 4,
   "metadata": {},
   "outputs": [
    {
     "name": "stdout",
     "output_type": "stream",
     "text": [
      "insert into magazzino (mid, prodotto, prezzo, qta) values (999,'supermoka',12.4,100)\n"
     ]
    }
   ],
   "source": [
    "import sqlite3\n",
    "\n",
    "conn = sqlite3.connect(\"pythondb.db\")\n",
    "cur = conn.cursor()\n",
    "\n",
    "#chiedo i dati\n",
    "mid = 999\n",
    "prodotto = 'supermoka'\n",
    "prezzo = 12.4\n",
    "qta = 100\n",
    "\n",
    "#compongo l'sql\n",
    "sql = f\"insert into magazzino \"\\\n",
    "f\"(mid, prodotto, prezzo, qta) values \"\\\n",
    "f\"({mid},'{prodotto}',{prezzo},{qta})\"\n",
    "print(sql)\n",
    "\n",
    "#inserisco nel db\n",
    "cur.execute(sql)\n",
    "conn.commit()\n",
    "\n",
    "conn.close()\n"
   ]
  },
  {
   "cell_type": "markdown",
   "metadata": {},
   "source": [
    "Verifico se ho inserito..."
   ]
  },
  {
   "cell_type": "code",
   "execution_count": 10,
   "metadata": {},
   "outputs": [
    {
     "name": "stdout",
     "output_type": "stream",
     "text": [
      "1:\tcaffè\t2.5\t100\n",
      "2:\tmele\t0.98\t999\n",
      "3:\tpere\t2.25\t123\n",
      "4:\tkiwi\t2\t45\n",
      "999:\tsupermoka\t12.4\t100\n"
     ]
    }
   ],
   "source": [
    "def viewdb():\n",
    "    with sqlite3.connect(\"pythondb.db\") as conn:\n",
    "        cur = conn.cursor()\n",
    "        cur.execute(\"select mid, prodotto, prezzo, qta from magazzino\")\n",
    "        for row in cur.fetchall():\n",
    "            mid, prodotto, prezzo, qta = row\n",
    "            print(f\"{mid}:\\t{prodotto}\\t{prezzo}\\t{qta}\")\n",
    "    #.close()\n",
    "\n",
    "viewdb()"
   ]
  },
  {
   "cell_type": "code",
   "execution_count": 11,
   "metadata": {},
   "outputs": [
    {
     "name": "stdout",
     "output_type": "stream",
     "text": [
      "1:\tcaffè\t2.5\t100\n",
      "2:\tmele\t0.98\t999\n",
      "3:\tpere\t2.25\t123\n",
      "4:\tkiwi\t2\t45\n",
      "999:\tsupermoka\t12.4\t100\n"
     ]
    }
   ],
   "source": [
    "import sqlite3\n",
    "\n",
    "conn = sqlite3.connect(\"pythondb.db\")\n",
    "cur = conn.cursor()\n",
    "\n",
    "mid = 2\n",
    "sql = f\"update magazzino set qta = 999 where mid = {mid}\"\n",
    "cur.execute(sql)\n",
    "conn.commit()\n",
    "\n",
    "conn.close()\n",
    "\n",
    "viewdb()"
   ]
  },
  {
   "cell_type": "markdown",
   "metadata": {},
   "source": [
    "Cancello tabella con DROP"
   ]
  },
  {
   "cell_type": "code",
   "execution_count": 12,
   "metadata": {},
   "outputs": [],
   "source": [
    "with sqlite3.connect(\"pythondb.db\") as conn:\n",
    "    cur = conn.cursor()\n",
    "    sql = \"DROP table coffee\"\n",
    "    cur.execute(sql)\n",
    "    conn.commit()"
   ]
  },
  {
   "cell_type": "code",
   "execution_count": 13,
   "metadata": {},
   "outputs": [],
   "source": [
    "with sqlite3.connect(\"pythondb.db\") as conn:\n",
    "    cur = conn.cursor()\n",
    "\n",
    "    sql = f\"create table coffee (\"\\\n",
    "        \"id int primary key,\"\\\n",
    "        \"nome varchar(20) not null,\"\\\n",
    "        \"peso float default 0 \"\\\n",
    "        \")\"\n",
    "\n",
    "    cur.execute(sql)\n",
    "    conn.commit()"
   ]
  }
 ],
 "metadata": {
  "kernelspec": {
   "display_name": "Python 3",
   "language": "python",
   "name": "python3"
  },
  "language_info": {
   "codemirror_mode": {
    "name": "ipython",
    "version": 3
   },
   "file_extension": ".py",
   "mimetype": "text/x-python",
   "name": "python",
   "nbconvert_exporter": "python",
   "pygments_lexer": "ipython3",
   "version": "3.12.2"
  }
 },
 "nbformat": 4,
 "nbformat_minor": 2
}
