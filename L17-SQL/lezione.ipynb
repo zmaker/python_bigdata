{
 "cells": [
  {
   "cell_type": "markdown",
   "metadata": {},
   "source": [
    "## SQL ##"
   ]
  },
  {
   "cell_type": "code",
   "execution_count": 2,
   "metadata": {},
   "outputs": [],
   "source": [
    "import sqlite3\n",
    "conn = sqlite3.connect(\"db1.db\")\n",
    "conn.close()"
   ]
  },
  {
   "cell_type": "code",
   "execution_count": 3,
   "metadata": {},
   "outputs": [
    {
     "name": "stdout",
     "output_type": "stream",
     "text": [
      "1: caffè - 2.5 - 100\n",
      "2: mele - 0.98 - 999\n",
      "3: pere - 2.25 - 123\n",
      "4: kiwi - 2 - 45\n",
      "5: fragole - 4.5 - 100\n"
     ]
    }
   ],
   "source": [
    "conn = sqlite3.connect(\"pythondb.db\")\n",
    "cur = conn.cursor()\n",
    "cur.execute(\"select * from magazzino\")\n",
    "for row in cur.fetchall():\n",
    "    mid, prodotto, prezzo, qta = row\n",
    "    print(f\"{mid}: {prodotto} - {prezzo} - {qta}\")\n",
    "conn.close()"
   ]
  },
  {
   "cell_type": "code",
   "execution_count": 7,
   "metadata": {},
   "outputs": [
    {
     "name": "stdout",
     "output_type": "stream",
     "text": [
      "insert into magazzino (mid, prodotto, prezzo, qta) values (999,'supermoka',12.4,100)\n"
     ]
    }
   ],
   "source": [
    "conn = sqlite3.connect(\"pythondb.db\")\n",
    "cur = conn.cursor()\n",
    "\n",
    "mid, prodotto, prezzo, qta = (999, 'supermoka', 12.4, 100)\n",
    "sql = f\"insert into magazzino \"\\\n",
    "f\"(mid, prodotto, prezzo, qta) values \"\\\n",
    "f\"({mid},'{prodotto}',{prezzo},{qta})\"\n",
    "print(sql)\n",
    "\n",
    "cur.execute(sql)\n",
    "conn.commit()\n",
    "\n",
    "conn.close()"
   ]
  },
  {
   "cell_type": "code",
   "execution_count": 8,
   "metadata": {},
   "outputs": [
    {
     "name": "stdout",
     "output_type": "stream",
     "text": [
      "1: caffè - 2.5 - 100\n",
      "2: mele - 0.98 - 999\n",
      "3: pere - 2.25 - 123\n",
      "4: kiwi - 2 - 45\n",
      "5: fragole - 4.5 - 100\n",
      "999: supermoka - 12.4 - 100\n"
     ]
    }
   ],
   "source": [
    "def viewdb():\n",
    "    with sqlite3.connect(\"pythondb.db\") as conn:        \n",
    "        cur = conn.cursor()\n",
    "        cur.execute(\"select * from magazzino\")\n",
    "        for row in cur.fetchall():\n",
    "            mid, prodotto, prezzo, qta = row\n",
    "            print(f\"{mid}: {prodotto} - {prezzo} - {qta}\")\n",
    "\n",
    "viewdb()"
   ]
  },
  {
   "cell_type": "code",
   "execution_count": 9,
   "metadata": {},
   "outputs": [
    {
     "name": "stdout",
     "output_type": "stream",
     "text": [
      "update magazzino set qta = 111 where mid = 2\n",
      "1: caffè - 2.5 - 100\n",
      "2: mele - 0.98 - 111\n",
      "3: pere - 2.25 - 123\n",
      "4: kiwi - 2 - 45\n",
      "5: fragole - 4.5 - 100\n",
      "999: supermoka - 12.4 - 100\n"
     ]
    }
   ],
   "source": [
    "with sqlite3.connect(\"pythondb.db\") as conn:\n",
    "    cur = conn.cursor()\n",
    "\n",
    "    mid = 2;\n",
    "    sql = f\"update magazzino set qta = 111 where mid = {mid}\"\n",
    "    print(sql)\n",
    "\n",
    "    cur.execute(sql)\n",
    "    conn.commit()\n",
    "\n",
    "viewdb()"
   ]
  },
  {
   "cell_type": "code",
   "execution_count": 10,
   "metadata": {},
   "outputs": [],
   "source": [
    "with sqlite3.connect(\"pythondb.db\") as conn:\n",
    "    cur = conn.cursor()\n",
    "    sql = \"DROP TABLE coffee\"\n",
    "    cur.execute(sql)\n",
    "    conn.commit()"
   ]
  },
  {
   "cell_type": "code",
   "execution_count": 11,
   "metadata": {},
   "outputs": [],
   "source": [
    "with sqlite3.connect(\"pythondb.db\") as conn:\n",
    "    cur = conn.cursor()\n",
    "    sql = \"CREATE TABLE coffee (\"\\\n",
    "    \"id   INT          PRIMARY KEY,\"\\\n",
    "    \"nome VARCHAR (20) NOT NULL,\"\\\n",
    "    \"peso FLOAT        DEFAULT 0)\"\n",
    "    cur.execute(sql)\n",
    "    conn.commit()"
   ]
  }
 ],
 "metadata": {
  "kernelspec": {
   "display_name": "Python 3",
   "language": "python",
   "name": "python3"
  },
  "language_info": {
   "codemirror_mode": {
    "name": "ipython",
    "version": 3
   },
   "file_extension": ".py",
   "mimetype": "text/x-python",
   "name": "python",
   "nbconvert_exporter": "python",
   "pygments_lexer": "ipython3",
   "version": "3.12.3"
  }
 },
 "nbformat": 4,
 "nbformat_minor": 2
}
