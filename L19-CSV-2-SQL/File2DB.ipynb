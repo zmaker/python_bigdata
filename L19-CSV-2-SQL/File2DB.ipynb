{
 "cells": [
  {
   "cell_type": "markdown",
   "metadata": {},
   "source": [
    "## Esericizio CSV to DB\n",
    "\n",
    "Apriamo un file in CSV e lo copiamo in un database\n"
   ]
  },
  {
   "cell_type": "code",
   "execution_count": 11,
   "metadata": {},
   "outputs": [
    {
     "name": "stdout",
     "output_type": "stream",
     "text": [
      "[['cod', 'nome', 'qta', 'prezzo'], ['001', 'mele', '100', '1.9'], ['002', 'pere', '50', '1.7'], ['003', 'banane', '10', '0.9']]\n"
     ]
    }
   ],
   "source": [
    "import csv\n",
    "\n",
    "dati = ()\n",
    "with open(\"dati.csv\") as f:\n",
    "    cur = csv.reader(f, delimiter=',')\n",
    "    dati = list(cur)\n",
    "\n",
    "print(dati)"
   ]
  },
  {
   "cell_type": "markdown",
   "metadata": {},
   "source": [
    "Se i dati fossero in XML, JSON, TXT... scrivi una funzione adatta\n",
    "\n",
    "la lista dati contiene anche le intestazioni: le rimuovo"
   ]
  },
  {
   "cell_type": "code",
   "execution_count": 12,
   "metadata": {},
   "outputs": [
    {
     "name": "stdout",
     "output_type": "stream",
     "text": [
      "[['001', 'mele', '100', '1.9'], ['002', 'pere', '50', '1.7'], ['003', 'banane', '10', '0.9']]\n"
     ]
    }
   ],
   "source": [
    "dati = dati[1:]\n",
    "\n",
    "print(dati)"
   ]
  },
  {
   "cell_type": "markdown",
   "metadata": {},
   "source": [
    "Creo la tabella del database"
   ]
  },
  {
   "cell_type": "code",
   "execution_count": 13,
   "metadata": {},
   "outputs": [],
   "source": [
    "import sqlite3\n",
    "conn = sqlite3.connect(\"databasedati.db\")\n",
    "conn.execute(\"create table IF NOT EXISTS dati (cod TEXT, nome TEXT, qta INTEGER, prezzo DECIMAL)\")\n",
    "conn.close()"
   ]
  },
  {
   "cell_type": "code",
   "execution_count": 14,
   "metadata": {},
   "outputs": [],
   "source": [
    "conn = sqlite3.connect(\"databasedati.db\")\n",
    "conn.executemany(\"INSERT INTO dati (cod, nome, qta, prezzo) VALUES (?,?,?,?)\", dati)\n",
    "conn.commit()\n",
    "conn.close()"
   ]
  }
 ],
 "metadata": {
  "kernelspec": {
   "display_name": "Python 3",
   "language": "python",
   "name": "python3"
  },
  "language_info": {
   "codemirror_mode": {
    "name": "ipython",
    "version": 3
   },
   "file_extension": ".py",
   "mimetype": "text/x-python",
   "name": "python",
   "nbconvert_exporter": "python",
   "pygments_lexer": "ipython3",
   "version": "3.12.2"
  }
 },
 "nbformat": 4,
 "nbformat_minor": 2
}
