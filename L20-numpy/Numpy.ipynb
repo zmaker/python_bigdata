{
 "cells": [
  {
   "cell_type": "markdown",
   "metadata": {},
   "source": [
    "### NumPy\n",
    "Lavora con array, vettori e matrici.\n",
    "\n",
    "Se necessario la installiamo con pip install numpy. \n"
   ]
  },
  {
   "cell_type": "code",
   "execution_count": 1,
   "metadata": {},
   "outputs": [],
   "source": [
    "import numpy as np"
   ]
  },
  {
   "cell_type": "markdown",
   "metadata": {},
   "source": [
    "Creo un primo array."
   ]
  },
  {
   "cell_type": "code",
   "execution_count": 2,
   "metadata": {},
   "outputs": [
    {
     "data": {
      "text/plain": [
       "array([1, 2, 3, 4, 5, 6, 7, 8, 9])"
      ]
     },
     "execution_count": 2,
     "metadata": {},
     "output_type": "execute_result"
    }
   ],
   "source": [
    "v1 = np.array([1,2,3,4,5,6,7,8,9])\n",
    "v1"
   ]
  },
  {
   "cell_type": "markdown",
   "metadata": {},
   "source": [
    "Creo una matrice"
   ]
  },
  {
   "cell_type": "code",
   "execution_count": 3,
   "metadata": {},
   "outputs": [
    {
     "data": {
      "text/plain": [
       "array([[1, 2, 3],\n",
       "       [4, 5, 6],\n",
       "       [7, 8, 9]])"
      ]
     },
     "execution_count": 3,
     "metadata": {},
     "output_type": "execute_result"
    }
   ],
   "source": [
    "m1 = np.array([[1,2,3],[4,5,6],[7,8,9]])\n",
    "m1"
   ]
  },
  {
   "cell_type": "markdown",
   "metadata": {},
   "source": [
    "Per esaminare la struttura dei dati di numpy e capire se è una matrice, una lsta  un array usiamo shape:"
   ]
  },
  {
   "cell_type": "code",
   "execution_count": 4,
   "metadata": {},
   "outputs": [
    {
     "data": {
      "text/plain": [
       "(9,)"
      ]
     },
     "execution_count": 4,
     "metadata": {},
     "output_type": "execute_result"
    }
   ],
   "source": [
    "v1.shape"
   ]
  },
  {
   "cell_type": "code",
   "execution_count": 5,
   "metadata": {},
   "outputs": [
    {
     "data": {
      "text/plain": [
       "(3, 3)"
      ]
     },
     "execution_count": 5,
     "metadata": {},
     "output_type": "execute_result"
    }
   ],
   "source": [
    "m1.shape"
   ]
  },
  {
   "cell_type": "markdown",
   "metadata": {},
   "source": [
    "La proprietà shape si può usare per modificare la forma dei dati. Es. da una lista passo a una matrice. \n",
    "\n",
    "L'importante è che righe x colonne = numero elementi"
   ]
  },
  {
   "cell_type": "code",
   "execution_count": 6,
   "metadata": {},
   "outputs": [
    {
     "name": "stdout",
     "output_type": "stream",
     "text": [
      "prima forma: (9,)\n",
      "dopo la trasformazione: (3, 3)\n"
     ]
    }
   ],
   "source": [
    "v2 = np.array([1,2,3,4,5,6,7,8,9])\n",
    "print(\"prima forma:\", v2.shape)\n",
    "v2.shape=(3,3)\n",
    "print(\"dopo la trasformazione:\", v2.shape)"
   ]
  },
  {
   "cell_type": "markdown",
   "metadata": {},
   "source": [
    "## Accesso ai valori\n",
    "Leggo un singolo elemento:"
   ]
  },
  {
   "cell_type": "code",
   "execution_count": 7,
   "metadata": {},
   "outputs": [
    {
     "name": "stdout",
     "output_type": "stream",
     "text": [
      "1\n"
     ]
    }
   ],
   "source": [
    "print(v2[0,0])"
   ]
  },
  {
   "cell_type": "markdown",
   "metadata": {},
   "source": [
    "modifico un elemento singolo"
   ]
  },
  {
   "cell_type": "code",
   "execution_count": 8,
   "metadata": {},
   "outputs": [
    {
     "name": "stdout",
     "output_type": "stream",
     "text": [
      "[[99  2  3]\n",
      " [ 4  5  6]\n",
      " [ 7  8  9]]\n"
     ]
    }
   ],
   "source": [
    "v2[0,0] = 99\n",
    "print(v2)"
   ]
  },
  {
   "cell_type": "markdown",
   "metadata": {},
   "source": [
    "Gli indici funzionano come per le liste python (split, negativi...)"
   ]
  },
  {
   "cell_type": "code",
   "execution_count": 26,
   "metadata": {},
   "outputs": [
    {
     "name": "stdout",
     "output_type": "stream",
     "text": [
      "2\n",
      "negativo 9\n",
      "range [3 4]\n",
      "da 5 a fine [5 6 7 8 9]\n",
      "da inizio a 5 [0 1 2 3 4]\n"
     ]
    }
   ],
   "source": [
    "n = np.array([0,1,2,3,4,5,6,7,8,9])\n",
    "print(n[2])\n",
    "print(\"negativo\",n[-1])\n",
    "print(\"range\",n[3:5])\n",
    "print(\"da 5 a fine\",n[5:])\n",
    "print(\"da inizio a 5\",n[:5])"
   ]
  },
  {
   "cell_type": "markdown",
   "metadata": {},
   "source": [
    "Con matrici a 2 e più dimensioni...\n",
    "Cos'è una matrice?"
   ]
  },
  {
   "cell_type": "code",
   "execution_count": 29,
   "metadata": {},
   "outputs": [
    {
     "name": "stdout",
     "output_type": "stream",
     "text": [
      "matrice: [[1 2 3]\n",
      " [4 5 6]\n",
      " [7 8 9]]\n",
      "el: 6\n"
     ]
    }
   ],
   "source": [
    "n = np.array([1,2,3,4,5,6,7,8,9]).reshape(3,3)\n",
    "print(\"matrice:\", n)\n",
    "print(\"el:\", n[1][2])\n"
   ]
  },
  {
   "cell_type": "markdown",
   "metadata": {},
   "source": [
    "riga"
   ]
  },
  {
   "cell_type": "code",
   "execution_count": 31,
   "metadata": {},
   "outputs": [
    {
     "name": "stdout",
     "output_type": "stream",
     "text": [
      "[4 5 6]\n"
     ]
    }
   ],
   "source": [
    "print(n[1])"
   ]
  },
  {
   "cell_type": "markdown",
   "metadata": {},
   "source": [
    "colonna"
   ]
  },
  {
   "cell_type": "code",
   "execution_count": 32,
   "metadata": {},
   "outputs": [
    {
     "name": "stdout",
     "output_type": "stream",
     "text": [
      "[1 4 7]\n"
     ]
    }
   ],
   "source": [
    "print(n[:,0]) #tutti gli elementi in riga con indice di colonna 0"
   ]
  },
  {
   "cell_type": "markdown",
   "metadata": {},
   "source": [
    "sottomatrici"
   ]
  },
  {
   "cell_type": "code",
   "execution_count": 39,
   "metadata": {},
   "outputs": [
    {
     "name": "stdout",
     "output_type": "stream",
     "text": [
      "[[5 6]\n",
      " [8 9]]\n"
     ]
    }
   ],
   "source": [
    "print(n[1:3, 1:3])"
   ]
  },
  {
   "cell_type": "markdown",
   "metadata": {},
   "source": [
    "funzioni di modifica per array: insert e append. Attenzione che non modificano l'oggetto originale"
   ]
  },
  {
   "cell_type": "code",
   "execution_count": 42,
   "metadata": {},
   "outputs": [
    {
     "name": "stdout",
     "output_type": "stream",
     "text": [
      "append [1 2 3 4 5] [  1   2   3   4   5 100]\n",
      "insert [1 2 3 4 5] [  1   2   3 100   4   5]\n"
     ]
    }
   ],
   "source": [
    "n = np.array([1,2,3,4,5])\n",
    "n2 = np.append(n, 100)\n",
    "print(\"append\", n, n2)\n",
    "\n",
    "n3 = np.insert(n, 3, 100)\n",
    "print(\"insert\", n, n3)\n"
   ]
  },
  {
   "cell_type": "markdown",
   "metadata": {},
   "source": [
    "Tutti gli elementi di una __lista np__ sono __sempre omogenei__ diversamente dalle liste in Python.\n",
    "\n",
    "_dtype_ riporta il tipo di dati della lista."
   ]
  },
  {
   "cell_type": "code",
   "execution_count": 9,
   "metadata": {},
   "outputs": [
    {
     "data": {
      "text/plain": [
       "dtype('int64')"
      ]
     },
     "execution_count": 9,
     "metadata": {},
     "output_type": "execute_result"
    }
   ],
   "source": [
    "v2.dtype"
   ]
  },
  {
   "cell_type": "markdown",
   "metadata": {},
   "source": [
    "Provo a inserire un numero con virgola nell'array _v2_. Purtroppo il tipo è definito e non è possibile modificarlo. L'elemento inserito perde la virgola."
   ]
  },
  {
   "cell_type": "code",
   "execution_count": 10,
   "metadata": {},
   "outputs": [
    {
     "name": "stdout",
     "output_type": "stream",
     "text": [
      "[[99  2  3]\n",
      " [ 4  3  6]\n",
      " [ 7  8  9]]\n"
     ]
    },
    {
     "data": {
      "text/plain": [
       "dtype('int64')"
      ]
     },
     "execution_count": 10,
     "metadata": {},
     "output_type": "execute_result"
    }
   ],
   "source": [
    "#non va?\n",
    "v2[1,1] = 3.3\n",
    "print(v2)\n",
    "v2.dtype"
   ]
  },
  {
   "cell_type": "markdown",
   "metadata": {},
   "source": [
    "Per modificare il tipo di dati creo un nuovo array passandogli l'array da copiare (v2) e il nuovo tip di dati."
   ]
  },
  {
   "cell_type": "code",
   "execution_count": 11,
   "metadata": {},
   "outputs": [
    {
     "name": "stdout",
     "output_type": "stream",
     "text": [
      "[[99.   2.   3. ]\n",
      " [ 4.   3.5  6. ]\n",
      " [ 7.   8.   9. ]]\n"
     ]
    },
    {
     "data": {
      "text/plain": [
       "dtype('float64')"
      ]
     },
     "execution_count": 11,
     "metadata": {},
     "output_type": "execute_result"
    }
   ],
   "source": [
    "y= np.array(v2, dtype=float)\n",
    "y[1,1] = 3.5\n",
    "print(y)\n",
    "y.dtype"
   ]
  },
  {
   "cell_type": "markdown",
   "metadata": {},
   "source": [
    "_dtype_ si può usare per forzare il tipo di dato dell'array una volta che è stato definito."
   ]
  },
  {
   "cell_type": "code",
   "execution_count": 12,
   "metadata": {},
   "outputs": [
    {
     "name": "stdout",
     "output_type": "stream",
     "text": [
      "il tipo prima:  int64\n",
      "il tipo dopo la modifica:  float64\n",
      "[4.9e-324 9.9e-324 1.5e-323 2.0e-323 2.5e-323]\n"
     ]
    }
   ],
   "source": [
    "a1 = np.array([1,2,3,4,5])\n",
    "print(\"il tipo prima: \", a1.dtype)\n",
    "a1.dtype = np.float64\n",
    "print(\"il tipo dopo la modifica: \", a1.dtype)\n",
    "print(a1)"
   ]
  },
  {
   "cell_type": "markdown",
   "metadata": {},
   "source": [
    "## tipi dato ##\n",
    "numpy gestisce tanti tipi di dato: int8/16/32, uint8/16/32/64, intp (per indexing) uintp (per puntatori), float32/64, complex64/128"
   ]
  },
  {
   "cell_type": "code",
   "execution_count": 13,
   "metadata": {},
   "outputs": [
    {
     "name": "stdout",
     "output_type": "stream",
     "text": [
      "[1.+1.j 2.+3.j 3.-2.j]\n",
      "somma di complessi:  (3+4j)\n"
     ]
    }
   ],
   "source": [
    "c1 = np.array([1+1j, 2+3j, 3-2j])\n",
    "print(c1)\n",
    "print(\"somma di complessi: \", (c1[0] + c1[1]))"
   ]
  },
  {
   "cell_type": "markdown",
   "metadata": {},
   "source": [
    "## operazioni ##\n"
   ]
  },
  {
   "cell_type": "code",
   "execution_count": 14,
   "metadata": {},
   "outputs": [
    {
     "name": "stdout",
     "output_type": "stream",
     "text": [
      "a+b [ 37  73 109 145]\n",
      "a-b [13 27 41 55]\n",
      "a*b [ 300 1150 2550 4500]\n",
      "a * 0.5 (modifica tipo):  [12.5 25.  37.5 50. ]\n",
      "confronto a > 60 [False False  True  True]\n"
     ]
    }
   ],
   "source": [
    "a = np.array([25, 50, 75, 100])\n",
    "b = np.array([12, 23, 34, 45])\n",
    "\n",
    "print(\"a+b\", a+b)\n",
    "print(\"a-b\", a-b)\n",
    "print(\"a*b\", a*b)\n",
    "print(\"a * 0.5 (modifica tipo): \", (a*0.5))\n",
    "print(\"confronto a > 60\", (a>60))"
   ]
  },
  {
   "cell_type": "markdown",
   "metadata": {},
   "source": [
    "## generare array ##\n"
   ]
  },
  {
   "cell_type": "code",
   "execution_count": 15,
   "metadata": {},
   "outputs": [
    {
     "name": "stdout",
     "output_type": "stream",
     "text": [
      "[1 2 3 4 5 6 7 8 9] (9,)\n"
     ]
    }
   ],
   "source": [
    "v = np.arange(1,10)\n",
    "print(v, v.shape)"
   ]
  },
  {
   "cell_type": "code",
   "execution_count": 16,
   "metadata": {},
   "outputs": [
    {
     "name": "stdout",
     "output_type": "stream",
     "text": [
      "[[1 2 3]\n",
      " [4 5 6]\n",
      " [7 8 9]] (3, 3)\n"
     ]
    }
   ],
   "source": [
    "v = np.arange(1,10).reshape(3,3)\n",
    "print(v, v.shape)"
   ]
  },
  {
   "cell_type": "markdown",
   "metadata": {},
   "source": [
    "valori casuali"
   ]
  },
  {
   "cell_type": "code",
   "execution_count": 17,
   "metadata": {},
   "outputs": [
    {
     "name": "stdout",
     "output_type": "stream",
     "text": [
      "[[0.98211627 0.18203163 0.28947357 0.93343116]\n",
      " [0.81996949 0.9408322  0.41553194 0.62745549]\n",
      " [0.13343735 0.1267061  0.82667695 0.28067419]\n",
      " [0.33620713 0.37946132 0.9829864  0.56943981]]\n"
     ]
    }
   ],
   "source": [
    "m = np.random.random((4,4))\n",
    "print(m)"
   ]
  },
  {
   "cell_type": "markdown",
   "metadata": {},
   "source": [
    "sono tutti numeri tra 0 e 1. "
   ]
  },
  {
   "cell_type": "code",
   "execution_count": 18,
   "metadata": {},
   "outputs": [
    {
     "name": "stdout",
     "output_type": "stream",
     "text": [
      "[[98.21162742 18.20316267 28.94735681 93.34311555]\n",
      " [81.9969487  94.08321981 41.55319353 62.7455487 ]\n",
      " [13.34373502 12.67061014 82.66769517 28.06741932]\n",
      " [33.62071317 37.94613175 98.29863995 56.94398107]]\n"
     ]
    }
   ],
   "source": [
    "m2 = m*100\n",
    "print(m2)"
   ]
  },
  {
   "cell_type": "markdown",
   "metadata": {},
   "source": [
    "Per un array di numeri interi"
   ]
  },
  {
   "cell_type": "code",
   "execution_count": 19,
   "metadata": {},
   "outputs": [
    {
     "name": "stdout",
     "output_type": "stream",
     "text": [
      "[[23 13 85 66]\n",
      " [95 34 28 75]\n",
      " [10 60 27 78]\n",
      " [44 27 19 17]]\n"
     ]
    }
   ],
   "source": [
    "m3 = np.random.randint(0, 100, (4, 4))\n",
    "print(m3)"
   ]
  },
  {
   "cell_type": "markdown",
   "metadata": {},
   "source": [
    "Empty crea un array vuoto - !! o meglio non sappiamo cosa contenga!"
   ]
  },
  {
   "cell_type": "code",
   "execution_count": 20,
   "metadata": {},
   "outputs": [
    {
     "name": "stdout",
     "output_type": "stream",
     "text": [
      "[[98.21162742 18.20316267 28.94735681 93.34311555]\n",
      " [81.9969487  94.08321981 41.55319353 62.7455487 ]\n",
      " [13.34373502 12.67061014 82.66769517 28.06741932]\n",
      " [33.62071317 37.94613175 98.29863995 56.94398107]]\n"
     ]
    }
   ],
   "source": [
    "m4 = np.empty((2, 2))\n",
    "print(m4)"
   ]
  },
  {
   "cell_type": "markdown",
   "metadata": {},
   "source": [
    "Per un array con tutti 0, 1 o un valore a scelta si usano:"
   ]
  },
  {
   "cell_type": "code",
   "execution_count": 22,
   "metadata": {},
   "outputs": [
    {
     "name": "stdout",
     "output_type": "stream",
     "text": [
      "[[0. 0.]\n",
      " [0. 0.]]\n",
      "[[1. 1.]\n",
      " [1. 1.]]\n",
      "[[3 3]\n",
      " [3 3]]\n",
      "[[ True  True]\n",
      " [ True  True]]\n",
      "[['a' 'a']\n",
      " ['a' 'a']]\n"
     ]
    }
   ],
   "source": [
    "m5 = np.zeros((2, 2))\n",
    "print(m5)\n",
    "m5 = np.ones((2, 2))\n",
    "print(m5)\n",
    "m5 = np.full((2, 2), 3)\n",
    "print(m5)\n",
    "m5 = np.full((2, 2), True)\n",
    "print(m5)\n",
    "m5 = np.full((2, 2), 'a')\n",
    "print(m5)"
   ]
  }
 ],
 "metadata": {
  "kernelspec": {
   "display_name": "Python 3",
   "language": "python",
   "name": "python3"
  },
  "language_info": {
   "codemirror_mode": {
    "name": "ipython",
    "version": 3
   },
   "file_extension": ".py",
   "mimetype": "text/x-python",
   "name": "python",
   "nbconvert_exporter": "python",
   "pygments_lexer": "ipython3",
   "version": "3.12.2"
  }
 },
 "nbformat": 4,
 "nbformat_minor": 2
}
