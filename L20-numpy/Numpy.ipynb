{
 "cells": [
  {
   "cell_type": "markdown",
   "metadata": {},
   "source": [
    "### NumPy\n",
    "Lavora con array, vettori e matrici.\n",
    "\n",
    "Se necessario la installiamo con pip install numpy. \n"
   ]
  },
  {
   "cell_type": "code",
   "execution_count": 80,
   "metadata": {},
   "outputs": [],
   "source": [
    "import numpy as np"
   ]
  },
  {
   "cell_type": "markdown",
   "metadata": {},
   "source": [
    "Creo un primo array."
   ]
  },
  {
   "cell_type": "code",
   "execution_count": 81,
   "metadata": {},
   "outputs": [
    {
     "data": {
      "text/plain": [
       "array([1, 2, 3, 4, 5, 6, 7, 8, 9])"
      ]
     },
     "execution_count": 81,
     "metadata": {},
     "output_type": "execute_result"
    }
   ],
   "source": [
    "v1 = np.array([1,2,3,4,5,6,7,8,9])\n",
    "v1"
   ]
  },
  {
   "cell_type": "markdown",
   "metadata": {},
   "source": [
    "Creo una matrice"
   ]
  },
  {
   "cell_type": "code",
   "execution_count": 82,
   "metadata": {},
   "outputs": [
    {
     "data": {
      "text/plain": [
       "array([[1, 2, 3],\n",
       "       [4, 5, 6],\n",
       "       [7, 8, 9]])"
      ]
     },
     "execution_count": 82,
     "metadata": {},
     "output_type": "execute_result"
    }
   ],
   "source": [
    "m1 = np.array([[1,2,3],[4,5,6],[7,8,9]])\n",
    "m1"
   ]
  },
  {
   "cell_type": "markdown",
   "metadata": {},
   "source": [
    "Per esaminare la struttura dei dati di numpy e capire se è una matrice, una lsta  un array usiamo shape:"
   ]
  },
  {
   "cell_type": "code",
   "execution_count": 83,
   "metadata": {},
   "outputs": [
    {
     "data": {
      "text/plain": [
       "(9,)"
      ]
     },
     "execution_count": 83,
     "metadata": {},
     "output_type": "execute_result"
    }
   ],
   "source": [
    "v1.shape"
   ]
  },
  {
   "cell_type": "code",
   "execution_count": 84,
   "metadata": {},
   "outputs": [
    {
     "data": {
      "text/plain": [
       "(3, 3)"
      ]
     },
     "execution_count": 84,
     "metadata": {},
     "output_type": "execute_result"
    }
   ],
   "source": [
    "m1.shape"
   ]
  },
  {
   "cell_type": "markdown",
   "metadata": {},
   "source": [
    "La proprietà shape si può usare per modificare la forma dei dati. Es. da una lista passo a una matrice. \n",
    "\n",
    "L'importante è che righe x colonne = numero elementi"
   ]
  },
  {
   "cell_type": "code",
   "execution_count": 85,
   "metadata": {},
   "outputs": [
    {
     "name": "stdout",
     "output_type": "stream",
     "text": [
      "prima forma: (9,)\n",
      "dopo la trasformazione: (3, 3)\n"
     ]
    }
   ],
   "source": [
    "v2 = np.array([1,2,3,4,5,6,7,8,9])\n",
    "print(\"prima forma:\", v2.shape)\n",
    "v2.shape=(3,3)\n",
    "print(\"dopo la trasformazione:\", v2.shape)"
   ]
  },
  {
   "cell_type": "markdown",
   "metadata": {},
   "source": [
    "Leggo un singolo elemento:"
   ]
  },
  {
   "cell_type": "code",
   "execution_count": 86,
   "metadata": {},
   "outputs": [
    {
     "name": "stdout",
     "output_type": "stream",
     "text": [
      "1\n"
     ]
    }
   ],
   "source": [
    "print(v2[0,0])"
   ]
  },
  {
   "cell_type": "markdown",
   "metadata": {},
   "source": [
    "modifico un elemento singolo"
   ]
  },
  {
   "cell_type": "code",
   "execution_count": 87,
   "metadata": {},
   "outputs": [
    {
     "name": "stdout",
     "output_type": "stream",
     "text": [
      "[[99  2  3]\n",
      " [ 4  5  6]\n",
      " [ 7  8  9]]\n"
     ]
    }
   ],
   "source": [
    "v2[0,0] = 99\n",
    "print(v2)"
   ]
  },
  {
   "cell_type": "markdown",
   "metadata": {},
   "source": [
    "Tutti gli elementi di una __lista np__ sono __sempre omogenei__ diversamente dalle liste in Python.\n",
    "\n",
    "_dtype_ riporta il tipo di dati della lista."
   ]
  },
  {
   "cell_type": "code",
   "execution_count": 88,
   "metadata": {},
   "outputs": [
    {
     "data": {
      "text/plain": [
       "dtype('int64')"
      ]
     },
     "execution_count": 88,
     "metadata": {},
     "output_type": "execute_result"
    }
   ],
   "source": [
    "v2.dtype"
   ]
  },
  {
   "cell_type": "markdown",
   "metadata": {},
   "source": [
    "Provo a inserire un numero con virgola nell'array _v2_. Purtroppo il tipo è definito e non è possibile modificarlo. L'elemento inserito perde la virgola."
   ]
  },
  {
   "cell_type": "code",
   "execution_count": 89,
   "metadata": {},
   "outputs": [
    {
     "name": "stdout",
     "output_type": "stream",
     "text": [
      "[[99  2  3]\n",
      " [ 4  3  6]\n",
      " [ 7  8  9]]\n"
     ]
    },
    {
     "data": {
      "text/plain": [
       "dtype('int64')"
      ]
     },
     "execution_count": 89,
     "metadata": {},
     "output_type": "execute_result"
    }
   ],
   "source": [
    "#non va?\n",
    "v2[1,1] = 3.3\n",
    "print(v2)\n",
    "v2.dtype"
   ]
  },
  {
   "cell_type": "markdown",
   "metadata": {},
   "source": [
    "Per modificare il tipo di dati creo un nuovo array passandogli l'array da copiare (v2) e il nuovo tip di dati."
   ]
  },
  {
   "cell_type": "code",
   "execution_count": 90,
   "metadata": {},
   "outputs": [
    {
     "name": "stdout",
     "output_type": "stream",
     "text": [
      "[[99.   2.   3. ]\n",
      " [ 4.   3.5  6. ]\n",
      " [ 7.   8.   9. ]]\n"
     ]
    },
    {
     "data": {
      "text/plain": [
       "dtype('float64')"
      ]
     },
     "execution_count": 90,
     "metadata": {},
     "output_type": "execute_result"
    }
   ],
   "source": [
    "y= np.array(v2, dtype=float)\n",
    "y[1,1] = 3.5\n",
    "print(y)\n",
    "y.dtype"
   ]
  },
  {
   "cell_type": "markdown",
   "metadata": {},
   "source": [
    "_dtype_ si può usare per forzare il tipo di dato dell'array una volta che è stato definito."
   ]
  },
  {
   "cell_type": "code",
   "execution_count": 91,
   "metadata": {},
   "outputs": [
    {
     "name": "stdout",
     "output_type": "stream",
     "text": [
      "il tipo prima:  int64\n",
      "il tipo dopo la modifica:  float64\n",
      "[4.9e-324 9.9e-324 1.5e-323 2.0e-323 2.5e-323]\n"
     ]
    }
   ],
   "source": [
    "a1 = np.array([1,2,3,4,5])\n",
    "print(\"il tipo prima: \", a1.dtype)\n",
    "a1.dtype = np.float64\n",
    "print(\"il tipo dopo la modifica: \", a1.dtype)\n",
    "print(a1)"
   ]
  },
  {
   "cell_type": "markdown",
   "metadata": {},
   "source": [
    "## tipi dato ##\n",
    "numpy gestisce tanti tipi di dato: int8/16/32, uint8/16/32/64, intp (per indexing) uintp (per puntatori), float32/64, complex64/128"
   ]
  },
  {
   "cell_type": "code",
   "execution_count": 92,
   "metadata": {},
   "outputs": [
    {
     "name": "stdout",
     "output_type": "stream",
     "text": [
      "[1.+1.j 2.+3.j 3.-2.j]\n",
      "somma di complessi:  (3+4j)\n"
     ]
    }
   ],
   "source": [
    "c1 = np.array([1+1j, 2+3j, 3-2j])\n",
    "print(c1)\n",
    "print(\"somma di complessi: \", (c1[0] + c1[1]))"
   ]
  },
  {
   "cell_type": "markdown",
   "metadata": {},
   "source": [
    "## operazioni ##\n"
   ]
  },
  {
   "cell_type": "code",
   "execution_count": 93,
   "metadata": {},
   "outputs": [
    {
     "name": "stdout",
     "output_type": "stream",
     "text": [
      "a+b [ 37  73 109 145]\n",
      "a-b [13 27 41 55]\n",
      "a*b [ 300 1150 2550 4500]\n",
      "a * 0.5 (modifica tipo):  [12.5 25.  37.5 50. ]\n",
      "confronto a > 60 [False False  True  True]\n"
     ]
    }
   ],
   "source": [
    "a = np.array([25, 50, 75, 100])\n",
    "b = np.array([12, 23, 34, 45])\n",
    "\n",
    "print(\"a+b\", a+b)\n",
    "print(\"a-b\", a-b)\n",
    "print(\"a*b\", a*b)\n",
    "print(\"a * 0.5 (modifica tipo): \", (a*0.5))\n",
    "print(\"confronto a > 60\", (a>60))"
   ]
  },
  {
   "cell_type": "markdown",
   "metadata": {},
   "source": [
    "## generare array ##\n"
   ]
  },
  {
   "cell_type": "code",
   "execution_count": 94,
   "metadata": {},
   "outputs": [
    {
     "name": "stdout",
     "output_type": "stream",
     "text": [
      "[1 2 3 4 5 6 7 8 9] (9,)\n"
     ]
    }
   ],
   "source": [
    "v = np.arange(1,10)\n",
    "print(v, v.shape)"
   ]
  },
  {
   "cell_type": "code",
   "execution_count": 95,
   "metadata": {},
   "outputs": [
    {
     "name": "stdout",
     "output_type": "stream",
     "text": [
      "[[1 2 3]\n",
      " [4 5 6]\n",
      " [7 8 9]] (3, 3)\n"
     ]
    }
   ],
   "source": [
    "v = np.arange(1,10).reshape(3,3)\n",
    "print(v, v.shape)"
   ]
  },
  {
   "cell_type": "markdown",
   "metadata": {},
   "source": [
    "valori casuali"
   ]
  },
  {
   "cell_type": "code",
   "execution_count": 96,
   "metadata": {},
   "outputs": [
    {
     "name": "stdout",
     "output_type": "stream",
     "text": [
      "[[0.37673101 0.31616111 0.61979665 0.03844116]\n",
      " [0.84923587 0.23477565 0.39698753 0.43218663]\n",
      " [0.51771162 0.55368129 0.30222922 0.54691117]\n",
      " [0.88038725 0.35744816 0.00380098 0.4318258 ]]\n"
     ]
    }
   ],
   "source": [
    "m = np.random.random((4,4))\n",
    "print(m)"
   ]
  },
  {
   "cell_type": "markdown",
   "metadata": {},
   "source": [
    "sono tutti numeri tra 0 e 1. "
   ]
  },
  {
   "cell_type": "code",
   "execution_count": 97,
   "metadata": {},
   "outputs": [
    {
     "name": "stdout",
     "output_type": "stream",
     "text": [
      "[[37.67310095 31.6161108  61.97966521  3.84411621]\n",
      " [84.92358685 23.47756544 39.69875332 43.21866324]\n",
      " [51.77116182 55.36812905 30.22292159 54.69111661]\n",
      " [88.03872534 35.74481578  0.38009838 43.18258034]]\n"
     ]
    }
   ],
   "source": [
    "m2 = m*100\n",
    "print(m2)"
   ]
  },
  {
   "cell_type": "markdown",
   "metadata": {},
   "source": [
    "Per un array di numeri interi"
   ]
  },
  {
   "cell_type": "code",
   "execution_count": 99,
   "metadata": {},
   "outputs": [
    {
     "name": "stdout",
     "output_type": "stream",
     "text": [
      "[[69 85 60 25]\n",
      " [70 21 19 58]\n",
      " [68 89 79 82]\n",
      " [27 42 30 55]]\n"
     ]
    }
   ],
   "source": [
    "m3 = np.random.randint(0, 100, (4, 4))\n",
    "print(m3)"
   ]
  }
 ],
 "metadata": {
  "kernelspec": {
   "display_name": "Python 3",
   "language": "python",
   "name": "python3"
  },
  "language_info": {
   "codemirror_mode": {
    "name": "ipython",
    "version": 3
   },
   "file_extension": ".py",
   "mimetype": "text/x-python",
   "name": "python",
   "nbconvert_exporter": "python",
   "pygments_lexer": "ipython3",
   "version": "3.12.2"
  }
 },
 "nbformat": 4,
 "nbformat_minor": 2
}
