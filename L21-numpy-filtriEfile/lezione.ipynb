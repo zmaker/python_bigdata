{
 "cells": [
  {
   "cell_type": "markdown",
   "metadata": {},
   "source": [
    "## filtri valori numpy\n"
   ]
  },
  {
   "cell_type": "code",
   "execution_count": 1,
   "metadata": {},
   "outputs": [],
   "source": [
    "import numpy as np"
   ]
  },
  {
   "cell_type": "code",
   "execution_count": 4,
   "metadata": {},
   "outputs": [
    {
     "name": "stdout",
     "output_type": "stream",
     "text": [
      "[90 90 66 41 35 87 26  2 43 47]\n",
      "[0 1 2 3 4 5 6 7 8 9]\n",
      "[0 3 2 4 9 1 5 7 8 6]\n"
     ]
    }
   ],
   "source": [
    "n = np.random.randint(0,100, 10)\n",
    "print(n)\n",
    "\n",
    "n2 = np.arange(0,10)\n",
    "print(n2)\n",
    "np.random.shuffle(n2)\n",
    "print(n2)"
   ]
  },
  {
   "cell_type": "code",
   "execution_count": 5,
   "metadata": {},
   "outputs": [
    {
     "name": "stdout",
     "output_type": "stream",
     "text": [
      "[41 35 26  2 43 47]\n"
     ]
    }
   ],
   "source": [
    "nf = n[n < 50]\n",
    "print(nf)"
   ]
  },
  {
   "cell_type": "code",
   "execution_count": 6,
   "metadata": {},
   "outputs": [
    {
     "name": "stdout",
     "output_type": "stream",
     "text": [
      "[41]\n"
     ]
    }
   ],
   "source": [
    "nf = n[n == 41]\n",
    "print(nf)"
   ]
  },
  {
   "cell_type": "code",
   "execution_count": 7,
   "metadata": {},
   "outputs": [
    {
     "name": "stdout",
     "output_type": "stream",
     "text": [
      "[90 90 66 35 87 26  2 43 47]\n"
     ]
    }
   ],
   "source": [
    "nf = n[n != 41]\n",
    "print(nf)"
   ]
  },
  {
   "cell_type": "code",
   "execution_count": 8,
   "metadata": {},
   "outputs": [
    {
     "name": "stdout",
     "output_type": "stream",
     "text": [
      "[90 90 66 87]\n"
     ]
    }
   ],
   "source": [
    "nf = n[n >= 66]\n",
    "print(nf)"
   ]
  },
  {
   "cell_type": "code",
   "execution_count": 9,
   "metadata": {},
   "outputs": [
    {
     "name": "stdout",
     "output_type": "stream",
     "text": [
      "[90 90 66 26  2]\n"
     ]
    }
   ],
   "source": [
    "nf = n[n%2 == 0]\n",
    "print(nf)"
   ]
  },
  {
   "cell_type": "code",
   "execution_count": 10,
   "metadata": {},
   "outputs": [
    {
     "name": "stdout",
     "output_type": "stream",
     "text": [
      "[41 35 43 47]\n"
     ]
    }
   ],
   "source": [
    "nf = n[(n > 33) & (n < 60)]\n",
    "print(nf)"
   ]
  },
  {
   "cell_type": "code",
   "execution_count": 11,
   "metadata": {},
   "outputs": [
    {
     "name": "stdout",
     "output_type": "stream",
     "text": [
      "[90 90 66 87 26  2]\n"
     ]
    }
   ],
   "source": [
    "nf = n[(n <= 33) | (n >= 60)]\n",
    "print(nf)"
   ]
  },
  {
   "cell_type": "code",
   "execution_count": 12,
   "metadata": {},
   "outputs": [
    {
     "name": "stdout",
     "output_type": "stream",
     "text": [
      "['P' 'P' 'P' 'D' 'D' 'D' 'P' 'P' 'D' 'D']\n"
     ]
    }
   ],
   "source": [
    "nn = np.where((n%2 == 0), \"P\" , \"D\")\n",
    "print(nn)"
   ]
  },
  {
   "cell_type": "code",
   "execution_count": 13,
   "metadata": {},
   "outputs": [
    {
     "name": "stdout",
     "output_type": "stream",
     "text": [
      "(array([0, 1, 2, 6, 7]),)\n"
     ]
    }
   ],
   "source": [
    "nn = np.where((n%2 == 0))\n",
    "print(nn)"
   ]
  },
  {
   "cell_type": "markdown",
   "metadata": {},
   "source": [
    "## arrotondamenti"
   ]
  },
  {
   "cell_type": "code",
   "execution_count": 14,
   "metadata": {},
   "outputs": [
    {
     "name": "stdout",
     "output_type": "stream",
     "text": [
      "[4.59161264 4.02529983 7.26853428 0.21511993 8.03159402 8.50853154\n",
      " 4.07799124 6.73354302 3.0776603  5.9530251 ]\n"
     ]
    }
   ],
   "source": [
    "v = np.random.random(10)\n",
    "v *= 10.0\n",
    "print(v)"
   ]
  },
  {
   "cell_type": "code",
   "execution_count": 15,
   "metadata": {},
   "outputs": [
    {
     "data": {
      "text/plain": [
       "array([4.59, 4.03, 7.27, 0.22, 8.03, 8.51, 4.08, 6.73, 3.08, 5.95])"
      ]
     },
     "execution_count": 15,
     "metadata": {},
     "output_type": "execute_result"
    }
   ],
   "source": [
    "np.around(v, 2)"
   ]
  },
  {
   "cell_type": "code",
   "execution_count": 16,
   "metadata": {},
   "outputs": [
    {
     "data": {
      "text/plain": [
       "array([5., 5., 8., 1., 9., 9., 5., 7., 4., 6.])"
      ]
     },
     "execution_count": 16,
     "metadata": {},
     "output_type": "execute_result"
    }
   ],
   "source": [
    "np.ceil(v)"
   ]
  },
  {
   "cell_type": "code",
   "execution_count": 17,
   "metadata": {},
   "outputs": [
    {
     "data": {
      "text/plain": [
       "array([4., 4., 7., 0., 8., 8., 4., 6., 3., 5.])"
      ]
     },
     "execution_count": 17,
     "metadata": {},
     "output_type": "execute_result"
    }
   ],
   "source": [
    "np.floor(v)"
   ]
  }
 ],
 "metadata": {
  "kernelspec": {
   "display_name": "Python 3",
   "language": "python",
   "name": "python3"
  },
  "language_info": {
   "codemirror_mode": {
    "name": "ipython",
    "version": 3
   },
   "file_extension": ".py",
   "mimetype": "text/x-python",
   "name": "python",
   "nbconvert_exporter": "python",
   "pygments_lexer": "ipython3",
   "version": "3.12.3"
  }
 },
 "nbformat": 4,
 "nbformat_minor": 2
}
