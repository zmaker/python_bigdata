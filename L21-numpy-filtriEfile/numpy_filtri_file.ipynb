{
 "cells": [
  {
   "cell_type": "markdown",
   "metadata": {},
   "source": [
    "## filtri e file\n",
    "\n",
    "genero array casuale e poi lo filtro"
   ]
  },
  {
   "cell_type": "code",
   "execution_count": 2,
   "metadata": {},
   "outputs": [
    {
     "name": "stdout",
     "output_type": "stream",
     "text": [
      "[58 34 65 28 84 67 46 20 66 18]\n",
      "[5 7 4 1 8 3 9 0 6 2]\n"
     ]
    }
   ],
   "source": [
    "import numpy as np\n",
    "n = np.random.randint(0,100, 10)\n",
    "print(n)\n",
    "\n",
    "#alternativa con shuffle\n",
    "from random import shuffle\n",
    "n2 = np.arange(0,10)\n",
    "np.random.shuffle(n2)\n",
    "print(n2)"
   ]
  },
  {
   "cell_type": "markdown",
   "metadata": {},
   "source": [
    "filtri"
   ]
  },
  {
   "cell_type": "code",
   "execution_count": 3,
   "metadata": {},
   "outputs": [
    {
     "name": "stdout",
     "output_type": "stream",
     "text": [
      "[34 28 46 20 18]\n"
     ]
    }
   ],
   "source": [
    "nf = n[n < 50]\n",
    "print(nf)"
   ]
  },
  {
   "cell_type": "code",
   "execution_count": 4,
   "metadata": {},
   "outputs": [
    {
     "name": "stdout",
     "output_type": "stream",
     "text": [
      "[]\n",
      "[58 34 65 28 84 67 46 20 66 18]\n",
      "[84]\n"
     ]
    }
   ],
   "source": [
    "nf = n[n == 50]\n",
    "print(nf)\n",
    "\n",
    "nf = n[n != 50]\n",
    "print(nf)\n",
    "\n",
    "nf = n[n >= 75]\n",
    "print(nf)"
   ]
  },
  {
   "cell_type": "markdown",
   "metadata": {},
   "source": [
    "posso selezionare anche i pari!"
   ]
  },
  {
   "cell_type": "code",
   "execution_count": 5,
   "metadata": {},
   "outputs": [
    {
     "name": "stdout",
     "output_type": "stream",
     "text": [
      "[58 34 28 84 46 20 66 18]\n"
     ]
    }
   ],
   "source": [
    "nf = n[n%2 == 0]\n",
    "print(nf)"
   ]
  },
  {
   "cell_type": "markdown",
   "metadata": {},
   "source": [
    "posso comporre filtri con operatori and e or"
   ]
  },
  {
   "cell_type": "code",
   "execution_count": 6,
   "metadata": {},
   "outputs": [
    {
     "name": "stdout",
     "output_type": "stream",
     "text": [
      "[58 34 65 28 67 46 66]\n",
      "[84 20 18]\n"
     ]
    }
   ],
   "source": [
    "nf = n[(n > 25) & (n < 75) ]\n",
    "print(nf)\n",
    "\n",
    "nf = n[(n < 25) | (n > 75) ]\n",
    "print(nf)\n"
   ]
  },
  {
   "cell_type": "code",
   "execution_count": 7,
   "metadata": {},
   "outputs": [
    {
     "name": "stdout",
     "output_type": "stream",
     "text": [
      "['P' 'P' 'D' 'P' 'P' 'D' 'P' 'P' 'P' 'P']\n"
     ]
    }
   ],
   "source": [
    "nn = np.where((n%2 == 0), \"P\", \"D\")\n",
    "print(nn)"
   ]
  },
  {
   "cell_type": "markdown",
   "metadata": {},
   "source": [
    "Se non passo i valori da sostituire ottengo una lista con le posizioni dei valori."
   ]
  },
  {
   "cell_type": "code",
   "execution_count": 8,
   "metadata": {},
   "outputs": [
    {
     "name": "stdout",
     "output_type": "stream",
     "text": [
      "(array([0, 1, 3, 4, 6, 7, 8, 9]),)\n"
     ]
    }
   ],
   "source": [
    "nn = np.where((n%2 == 0))\n",
    "print(nn)"
   ]
  },
  {
   "cell_type": "markdown",
   "metadata": {},
   "source": [
    "## Arrotondamenti\n"
   ]
  },
  {
   "cell_type": "code",
   "execution_count": 12,
   "metadata": {},
   "outputs": [
    {
     "name": "stdout",
     "output_type": "stream",
     "text": [
      "[6.89093784 6.33608218 9.69981889 9.36991825 3.79062994 7.48448878\n",
      " 5.70991198 2.53591507 5.66960681 3.45109158]\n"
     ]
    }
   ],
   "source": [
    "v = np.random.random(10)\n",
    "v *= 10.0\n",
    "print(v)"
   ]
  },
  {
   "cell_type": "code",
   "execution_count": 13,
   "metadata": {},
   "outputs": [
    {
     "data": {
      "text/plain": [
       "array([6.89, 6.34, 9.7 , 9.37, 3.79, 7.48, 5.71, 2.54, 5.67, 3.45])"
      ]
     },
     "execution_count": 13,
     "metadata": {},
     "output_type": "execute_result"
    }
   ],
   "source": [
    "np.around(v, 2)"
   ]
  },
  {
   "cell_type": "code",
   "execution_count": 14,
   "metadata": {},
   "outputs": [
    {
     "data": {
      "text/plain": [
       "array([ 7.,  7., 10., 10.,  4.,  8.,  6.,  3.,  6.,  4.])"
      ]
     },
     "execution_count": 14,
     "metadata": {},
     "output_type": "execute_result"
    }
   ],
   "source": [
    "np.ceil(v)"
   ]
  },
  {
   "cell_type": "code",
   "execution_count": 15,
   "metadata": {},
   "outputs": [
    {
     "data": {
      "text/plain": [
       "array([6., 6., 9., 9., 3., 7., 5., 2., 5., 3.])"
      ]
     },
     "execution_count": 15,
     "metadata": {},
     "output_type": "execute_result"
    }
   ],
   "source": [
    "np.floor(v)"
   ]
  }
 ],
 "metadata": {
  "kernelspec": {
   "display_name": "Python 3",
   "language": "python",
   "name": "python3"
  },
  "language_info": {
   "codemirror_mode": {
    "name": "ipython",
    "version": 3
   },
   "file_extension": ".py",
   "mimetype": "text/x-python",
   "name": "python",
   "nbconvert_exporter": "python",
   "pygments_lexer": "ipython3",
   "version": "3.12.2"
  }
 },
 "nbformat": 4,
 "nbformat_minor": 2
}
