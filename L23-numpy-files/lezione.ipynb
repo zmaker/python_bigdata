{
 "cells": [
  {
   "cell_type": "markdown",
   "metadata": {},
   "source": [
    "## Numpy e files"
   ]
  },
  {
   "cell_type": "code",
   "execution_count": 2,
   "metadata": {},
   "outputs": [
    {
     "name": "stdout",
     "output_type": "stream",
     "text": [
      "[32.54 78.91 15.03 99.99  4.27 65.82 21.16 87.35 50.    1.79]\n"
     ]
    }
   ],
   "source": [
    "import numpy as np\n",
    "lista = np.genfromtxt('numeri.txt')\n",
    "print(lista)"
   ]
  },
  {
   "cell_type": "code",
   "execution_count": 3,
   "metadata": {},
   "outputs": [
    {
     "data": {
      "text/plain": [
       "dtype('float64')"
      ]
     },
     "execution_count": 3,
     "metadata": {},
     "output_type": "execute_result"
    }
   ],
   "source": [
    "lista.dtype"
   ]
  },
  {
   "cell_type": "code",
   "execution_count": 4,
   "metadata": {},
   "outputs": [
    {
     "data": {
      "text/plain": [
       "10"
      ]
     },
     "execution_count": 4,
     "metadata": {},
     "output_type": "execute_result"
    }
   ],
   "source": [
    "lista.size"
   ]
  },
  {
   "cell_type": "code",
   "execution_count": 5,
   "metadata": {},
   "outputs": [
    {
     "name": "stdout",
     "output_type": "stream",
     "text": [
      "min:  1.79\n",
      "max:  99.99\n",
      "avg:  45.68599999999999\n",
      "std:  34.01310371018793\n"
     ]
    }
   ],
   "source": [
    "print(\"min: \", np.amin(lista))\n",
    "print(\"max: \", np.amax(lista))\n",
    "print(\"avg: \", np.average(lista))\n",
    "print(\"std: \", np.std(lista))"
   ]
  },
  {
   "cell_type": "code",
   "execution_count": 6,
   "metadata": {},
   "outputs": [
    {
     "name": "stdout",
     "output_type": "stream",
     "text": [
      "[ 35.794  86.801  16.533 109.989   4.697  72.402  23.276  96.085  55.\n",
      "   1.969]\n"
     ]
    }
   ],
   "source": [
    "lista2 = lista * 1.10\n",
    "print(lista2)"
   ]
  },
  {
   "cell_type": "code",
   "execution_count": 7,
   "metadata": {},
   "outputs": [
    {
     "name": "stdout",
     "output_type": "stream",
     "text": [
      "[ 35.79  86.8   16.53 109.99   4.7   72.4   23.28  96.08  55.     1.97]\n"
     ]
    }
   ],
   "source": [
    "lista2 = np.around(lista2, 2)\n",
    "print(lista2)"
   ]
  },
  {
   "cell_type": "code",
   "execution_count": 8,
   "metadata": {},
   "outputs": [],
   "source": [
    "np.savetxt(\"numeri_mod.txt\", lista2, fmt='%0.2f')"
   ]
  },
  {
   "cell_type": "markdown",
   "metadata": {},
   "source": [
    "## csv"
   ]
  },
  {
   "cell_type": "code",
   "execution_count": 9,
   "metadata": {},
   "outputs": [
    {
     "name": "stdout",
     "output_type": "stream",
     "text": [
      "[[12.34 98.76]\n",
      " [56.78 34.56]\n",
      " [78.9  12.34]\n",
      " [34.56 98.76]\n",
      " [98.76 56.78]\n",
      " [12.34 78.9 ]\n",
      " [56.78 34.56]\n",
      " [78.9  98.76]\n",
      " [34.56 12.34]\n",
      " [98.76 56.78]\n",
      " [12.34 78.9 ]\n",
      " [56.78 34.56]\n",
      " [78.9  98.76]\n",
      " [34.56 12.34]\n",
      " [98.76 56.78]\n",
      " [12.34 78.9 ]\n",
      " [56.78 34.56]\n",
      " [78.9  98.76]\n",
      " [34.56 12.34]\n",
      " [98.76 56.78]]\n"
     ]
    }
   ],
   "source": [
    "l3 = np.loadtxt('sequenza2.csv', delimiter=',', skiprows=0)\n",
    "print(l3)"
   ]
  },
  {
   "cell_type": "markdown",
   "metadata": {},
   "source": [
    "## binari"
   ]
  },
  {
   "cell_type": "code",
   "execution_count": 11,
   "metadata": {},
   "outputs": [
    {
     "name": "stdout",
     "output_type": "stream",
     "text": [
      "[32.54 78.91 15.03 99.99  4.27 65.82 21.16 87.35 50.    1.79]\n"
     ]
    }
   ],
   "source": [
    "lista = np.genfromtxt('numeri.txt')\n",
    "print(lista)\n",
    "\n",
    "np.save('listabinaria', lista)"
   ]
  },
  {
   "cell_type": "code",
   "execution_count": 12,
   "metadata": {},
   "outputs": [
    {
     "name": "stdout",
     "output_type": "stream",
     "text": [
      "[32.54 78.91 15.03 99.99  4.27 65.82 21.16 87.35 50.    1.79]\n"
     ]
    }
   ],
   "source": [
    "dati = np.load('listabinaria.npy')\n",
    "print(dati)"
   ]
  }
 ],
 "metadata": {
  "kernelspec": {
   "display_name": "Python 3",
   "language": "python",
   "name": "python3"
  },
  "language_info": {
   "codemirror_mode": {
    "name": "ipython",
    "version": 3
   },
   "file_extension": ".py",
   "mimetype": "text/x-python",
   "name": "python",
   "nbconvert_exporter": "python",
   "pygments_lexer": "ipython3",
   "version": "3.12.3"
  }
 },
 "nbformat": 4,
 "nbformat_minor": 2
}
