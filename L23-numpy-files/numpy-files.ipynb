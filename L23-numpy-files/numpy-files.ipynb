{
 "cells": [
  {
   "cell_type": "markdown",
   "metadata": {},
   "source": [
    "## NumPy Files\n",
    "\n",
    "Numpy può importare ed esportare dati da files (txt o bin)\n",
    "\n",
    "Generiamo una colonna di numeri (es. con chat gpt)"
   ]
  },
  {
   "cell_type": "code",
   "execution_count": 18,
   "metadata": {},
   "outputs": [
    {
     "name": "stdout",
     "output_type": "stream",
     "text": [
      "[96.49 13.14 40.44 83.19 67.76 61.94 71.47 38.63 36.36 12.5  59.12 46.48\n",
      " 44.61 13.61 66.01 65.82 81.19 85.04 28.67 16.01]\n"
     ]
    }
   ],
   "source": [
    "import numpy as np\n",
    "lista = np.genfromtxt('sequenza.txt')\n",
    "print(lista)"
   ]
  },
  {
   "cell_type": "code",
   "execution_count": 19,
   "metadata": {},
   "outputs": [
    {
     "data": {
      "text/plain": [
       "dtype('float64')"
      ]
     },
     "execution_count": 19,
     "metadata": {},
     "output_type": "execute_result"
    }
   ],
   "source": [
    "lista.dtype"
   ]
  },
  {
   "cell_type": "code",
   "execution_count": 20,
   "metadata": {},
   "outputs": [
    {
     "data": {
      "text/plain": [
       "20"
      ]
     },
     "execution_count": 20,
     "metadata": {},
     "output_type": "execute_result"
    }
   ],
   "source": [
    "lista.size"
   ]
  },
  {
   "cell_type": "code",
   "execution_count": 21,
   "metadata": {},
   "outputs": [
    {
     "data": {
      "text/plain": [
       "12.5"
      ]
     },
     "execution_count": 21,
     "metadata": {},
     "output_type": "execute_result"
    }
   ],
   "source": [
    "np.amin(lista)"
   ]
  },
  {
   "cell_type": "code",
   "execution_count": 22,
   "metadata": {},
   "outputs": [
    {
     "data": {
      "text/plain": [
       "96.49"
      ]
     },
     "execution_count": 22,
     "metadata": {},
     "output_type": "execute_result"
    }
   ],
   "source": [
    "np.amax(lista)"
   ]
  },
  {
   "cell_type": "code",
   "execution_count": 23,
   "metadata": {},
   "outputs": [
    {
     "data": {
      "text/plain": [
       "51.424"
      ]
     },
     "execution_count": 23,
     "metadata": {},
     "output_type": "execute_result"
    }
   ],
   "source": [
    "np.average(lista)"
   ]
  },
  {
   "cell_type": "code",
   "execution_count": 24,
   "metadata": {},
   "outputs": [
    {
     "data": {
      "text/plain": [
       "25.572700952382796"
      ]
     },
     "execution_count": 24,
     "metadata": {},
     "output_type": "execute_result"
    }
   ],
   "source": [
    "np.std(lista)"
   ]
  },
  {
   "cell_type": "markdown",
   "metadata": {},
   "source": [
    "modifico i valori e li salvo di nuovo"
   ]
  },
  {
   "cell_type": "code",
   "execution_count": 25,
   "metadata": {},
   "outputs": [
    {
     "name": "stdout",
     "output_type": "stream",
     "text": [
      "[106.139  14.454  44.484  91.509  74.536  68.134  78.617  42.493  39.996\n",
      "  13.75   65.032  51.128  49.071  14.971  72.611  72.402  89.309  93.544\n",
      "  31.537  17.611]\n"
     ]
    }
   ],
   "source": [
    "lista2 = lista * 1.10\n",
    "print(lista2)"
   ]
  },
  {
   "cell_type": "code",
   "execution_count": 26,
   "metadata": {},
   "outputs": [
    {
     "name": "stdout",
     "output_type": "stream",
     "text": [
      "[106.14  14.45  44.48  91.51  74.54  68.13  78.62  42.49  40.    13.75\n",
      "  65.03  51.13  49.07  14.97  72.61  72.4   89.31  93.54  31.54  17.61]\n"
     ]
    }
   ],
   "source": [
    "#arrotondo a due decimali\n",
    "lista2 = np.around(lista2, 2)\n",
    "print(lista2)"
   ]
  },
  {
   "cell_type": "markdown",
   "metadata": {},
   "source": [
    "salvo un nuovo file"
   ]
  },
  {
   "cell_type": "code",
   "execution_count": 27,
   "metadata": {},
   "outputs": [],
   "source": [
    "np.savetxt(\"lista2.csv\", lista2, fmt='%0.2f')"
   ]
  },
  {
   "cell_type": "markdown",
   "metadata": {},
   "source": [
    "Un csv vero con due colonne:"
   ]
  },
  {
   "cell_type": "code",
   "execution_count": 28,
   "metadata": {},
   "outputs": [
    {
     "name": "stdout",
     "output_type": "stream",
     "text": [
      "[[12.34 98.76]\n",
      " [56.78 34.56]\n",
      " [78.9  12.34]\n",
      " [34.56 98.76]\n",
      " [98.76 56.78]\n",
      " [12.34 78.9 ]\n",
      " [56.78 34.56]\n",
      " [78.9  98.76]\n",
      " [34.56 12.34]\n",
      " [98.76 56.78]\n",
      " [12.34 78.9 ]\n",
      " [56.78 34.56]\n",
      " [78.9  98.76]\n",
      " [34.56 12.34]\n",
      " [98.76 56.78]\n",
      " [12.34 78.9 ]\n",
      " [56.78 34.56]\n",
      " [78.9  98.76]\n",
      " [34.56 12.34]\n",
      " [98.76 56.78]]\n"
     ]
    }
   ],
   "source": [
    "lista = np.loadtxt('sequenza2.csv', delimiter=',', skiprows=0)\n",
    "print(lista)"
   ]
  },
  {
   "cell_type": "markdown",
   "metadata": {},
   "source": [
    "### Formato binario\n",
    "usa il formato npy"
   ]
  },
  {
   "cell_type": "code",
   "execution_count": 31,
   "metadata": {},
   "outputs": [],
   "source": [
    "lista = np.genfromtxt('sequenza.txt')\n",
    "np.save(\"listabinaria\", lista)\n"
   ]
  },
  {
   "cell_type": "code",
   "execution_count": 32,
   "metadata": {},
   "outputs": [
    {
     "name": "stdout",
     "output_type": "stream",
     "text": [
      "[96.49 13.14 40.44 83.19 67.76 61.94 71.47 38.63 36.36 12.5  59.12 46.48\n",
      " 44.61 13.61 66.01 65.82 81.19 85.04 28.67 16.01]\n"
     ]
    }
   ],
   "source": [
    "dati = np.load(\"listabinaria.npy\")\n",
    "print(dati)"
   ]
  }
 ],
 "metadata": {
  "kernelspec": {
   "display_name": "Python 3",
   "language": "python",
   "name": "python3"
  },
  "language_info": {
   "codemirror_mode": {
    "name": "ipython",
    "version": 3
   },
   "file_extension": ".py",
   "mimetype": "text/x-python",
   "name": "python",
   "nbconvert_exporter": "python",
   "pygments_lexer": "ipython3",
   "version": "3.12.2"
  }
 },
 "nbformat": 4,
 "nbformat_minor": 2
}
