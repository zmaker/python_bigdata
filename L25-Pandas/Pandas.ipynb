{
 "cells": [
  {
   "cell_type": "markdown",
   "metadata": {},
   "source": [
    "## Pandas\n",
    "si basa su NumPy. Utilizza i DataFrame, cioè delle tabelle di dati in memoria\n",
    "\n",
    "https://pandas.pydata.org/\n",
    "\n",
    "Pandas provides two types of classes for handling data:\n",
    "\n",
    "Series: a one-dimensional labeled array holding data of any type\n",
    "such as integers, strings, Python objects etc.\n",
    "\n",
    "DataFrame: a two-dimensional data structure that holds data like a two-dimension array or a table with rows and columns.\n"
   ]
  },
  {
   "cell_type": "code",
   "execution_count": 2,
   "metadata": {},
   "outputs": [],
   "source": [
    "#pip install pandas\n",
    "\n",
    "import pandas as pd\n"
   ]
  },
  {
   "cell_type": "markdown",
   "metadata": {},
   "source": [
    "Creiamo una serie da un elenco valori. Notare la presenza dell'indice"
   ]
  },
  {
   "cell_type": "code",
   "execution_count": 5,
   "metadata": {},
   "outputs": [
    {
     "name": "stdout",
     "output_type": "stream",
     "text": [
      "0    10\n",
      "1    30\n",
      "2    50\n",
      "3    44\n",
      "4    65\n",
      "5    86\n",
      "dtype: int64\n"
     ]
    }
   ],
   "source": [
    "s = pd.Series([10, 30, 50, 44, 65, 86])\n",
    "print(s)"
   ]
  },
  {
   "cell_type": "markdown",
   "metadata": {},
   "source": [
    "Creiamo una tabella DataFrame"
   ]
  },
  {
   "cell_type": "code",
   "execution_count": 8,
   "metadata": {},
   "outputs": [
    {
     "name": "stdout",
     "output_type": "stream",
     "text": [
      "DatetimeIndex(['2024-09-01', '2024-09-02', '2024-09-03', '2024-09-04',\n",
      "               '2024-09-05', '2024-09-06'],\n",
      "              dtype='datetime64[ns]', freq='D')\n"
     ]
    }
   ],
   "source": [
    "#creo un range di date a partire da una data e per 6 giorni\n",
    "dates = pd.date_range(\"20240901\", periods=6)\n",
    "print(dates)\n"
   ]
  },
  {
   "cell_type": "code",
   "execution_count": 9,
   "metadata": {},
   "outputs": [
    {
     "name": "stdout",
     "output_type": "stream",
     "text": [
      "                   A         B         C         D\n",
      "2024-09-01  1.061596 -0.816070  0.202270  2.267714\n",
      "2024-09-02  0.126449  0.944895  0.117183  0.862494\n",
      "2024-09-03 -0.248540  0.004117  0.511677 -0.634134\n",
      "2024-09-04 -0.556455  0.095939 -1.207228  0.284192\n",
      "2024-09-05 -2.189344 -0.226022 -1.016297  1.716083\n",
      "2024-09-06  0.581013  0.000215 -0.588177 -1.072914\n"
     ]
    }
   ],
   "source": [
    "#poi genero i dati\n",
    "import numpy as np\n",
    "df = pd.DataFrame(np.random.randn(6, 4), index=dates, columns=list(\"ABCD\"))\n",
    "print(df)\n"
   ]
  },
  {
   "cell_type": "code",
   "execution_count": 12,
   "metadata": {},
   "outputs": [
    {
     "name": "stdout",
     "output_type": "stream",
     "text": [
      "     A          B    C  D        E     F\n",
      "0  1.0 2024-09-01  1.0  3     mele  test\n",
      "1  1.0 2024-09-01  1.0  3     pere  test\n",
      "2  1.0 2024-09-01  1.0  3     kiwi  test\n",
      "3  1.0 2024-09-01  1.0  3  fragole  test\n",
      "0    1.0\n",
      "1    1.0\n",
      "2    1.0\n",
      "3    1.0\n",
      "dtype: float32\n"
     ]
    }
   ],
   "source": [
    "df2 = pd.DataFrame(\n",
    "    {\n",
    "        \"A\": 1.0,\n",
    "        \"B\": pd.Timestamp(\"20240901\"),\n",
    "        \"C\": pd.Series(1, index=list(range(4)), dtype=\"float32\"),\n",
    "        \"D\": np.array([3] * 4, dtype=\"int32\"),\n",
    "        \"E\": pd.Categorical([\"mele\", \"pere\", \"kiwi\", \"fragole\"]),\n",
    "        \"F\": \"test\",\n",
    "    }\n",
    ")\n",
    "print(df2)"
   ]
  },
  {
   "cell_type": "markdown",
   "metadata": {},
   "source": [
    "Un dataframe si può ottenere da un file CSV. File generato da chatgpt o gemini. \"genera 10 righe di un file CVS con le seguenti colonne: nome, cognome, peso, altezza, data_nascita, sesso\"\n"
   ]
  },
  {
   "cell_type": "code",
   "execution_count": 13,
   "metadata": {},
   "outputs": [
    {
     "name": "stdout",
     "output_type": "stream",
     "text": [
      "       nome    cognome  peso  altezza data_nascita sesso\n",
      "0  Giacobbe  Trapanese  63.6     1.94   1971-12-26     M\n",
      "1  Giovanni  Barillaro  84.0     1.80   1984-08-10     F\n",
      "2   Bettina       Toso  93.5     1.88   1960-01-25     F\n",
      "3     Carlo    Bettoni  80.5     1.79   1957-04-15     F\n",
      "4     Mauro   Bompiani  96.4     1.64   1990-10-18     M\n",
      "5   Gustavo    Galuppi  67.6     1.82   1966-07-09     M\n",
      "6    Puccio    Tartini  54.9     1.59   1973-04-05     M\n",
      "7      Tina  Gagliardi  83.1     1.84   1997-05-11     F\n",
      "8      Pier    Udinesi  55.5     1.89   1993-05-15     M\n",
      "9  Alderano     Turchi  82.8     1.94   1962-03-03     M\n"
     ]
    }
   ],
   "source": [
    "tab = pd.read_csv('fake_data.csv', delimiter=',')\n",
    "print(tab)"
   ]
  },
  {
   "cell_type": "code",
   "execution_count": 15,
   "metadata": {},
   "outputs": [
    {
     "name": "stdout",
     "output_type": "stream",
     "text": [
      "nome             object\n",
      "cognome          object\n",
      "peso            float64\n",
      "altezza         float64\n",
      "data_nascita     object\n",
      "sesso            object\n",
      "dtype: object\n"
     ]
    }
   ],
   "source": [
    "print(tab.dtypes)"
   ]
  },
  {
   "cell_type": "markdown",
   "metadata": {},
   "source": [
    "La data di nascita non è stata riconosciuta. \n",
    "con tab['data_nascita'] faccio rif a una colonna. si può usare anche tab.data_nascita se la colonna esiste"
   ]
  },
  {
   "cell_type": "code",
   "execution_count": 16,
   "metadata": {},
   "outputs": [
    {
     "name": "stdout",
     "output_type": "stream",
     "text": [
      "nome                    object\n",
      "cognome                 object\n",
      "peso                   float64\n",
      "altezza                float64\n",
      "data_nascita    datetime64[ns]\n",
      "sesso                   object\n",
      "dtype: object\n",
      "       nome    cognome  peso  altezza data_nascita sesso\n",
      "0  Giacobbe  Trapanese  63.6     1.94   1971-12-26     M\n",
      "1  Giovanni  Barillaro  84.0     1.80   1984-08-10     F\n",
      "2   Bettina       Toso  93.5     1.88   1960-01-25     F\n",
      "3     Carlo    Bettoni  80.5     1.79   1957-04-15     F\n",
      "4     Mauro   Bompiani  96.4     1.64   1990-10-18     M\n",
      "5   Gustavo    Galuppi  67.6     1.82   1966-07-09     M\n",
      "6    Puccio    Tartini  54.9     1.59   1973-04-05     M\n",
      "7      Tina  Gagliardi  83.1     1.84   1997-05-11     F\n",
      "8      Pier    Udinesi  55.5     1.89   1993-05-15     M\n",
      "9  Alderano     Turchi  82.8     1.94   1962-03-03     M\n"
     ]
    }
   ],
   "source": [
    "tab['data_nascita'] = pd.to_datetime(tab['data_nascita'])\n",
    "print(tab.dtypes)\n",
    "print(tab)"
   ]
  },
  {
   "cell_type": "markdown",
   "metadata": {},
   "source": [
    "Aggiungo una colonna"
   ]
  },
  {
   "cell_type": "code",
   "execution_count": 17,
   "metadata": {},
   "outputs": [
    {
     "name": "stdout",
     "output_type": "stream",
     "text": [
      "       nome    cognome  peso  altezza data_nascita sesso  genere\n",
      "0  Giacobbe  Trapanese  63.6     1.94   1971-12-26     M    MALE\n",
      "1  Giovanni  Barillaro  84.0     1.80   1984-08-10     F  FEMALE\n",
      "2   Bettina       Toso  93.5     1.88   1960-01-25     F  FEMALE\n",
      "3     Carlo    Bettoni  80.5     1.79   1957-04-15     F  FEMALE\n",
      "4     Mauro   Bompiani  96.4     1.64   1990-10-18     M    MALE\n",
      "5   Gustavo    Galuppi  67.6     1.82   1966-07-09     M    MALE\n",
      "6    Puccio    Tartini  54.9     1.59   1973-04-05     M    MALE\n",
      "7      Tina  Gagliardi  83.1     1.84   1997-05-11     F  FEMALE\n",
      "8      Pier    Udinesi  55.5     1.89   1993-05-15     M    MALE\n",
      "9  Alderano     Turchi  82.8     1.94   1962-03-03     M    MALE\n"
     ]
    }
   ],
   "source": [
    "tab[\"genere\"] = tab[\"sesso\"].apply(lambda x: 'MALE' if x=='M' else 'FEMALE')\n",
    "print(tab)"
   ]
  },
  {
   "cell_type": "markdown",
   "metadata": {},
   "source": [
    "posso estrarre un dataframe selezionando le colonne che interessano\n"
   ]
  },
  {
   "cell_type": "code",
   "execution_count": 18,
   "metadata": {},
   "outputs": [
    {
     "name": "stdout",
     "output_type": "stream",
     "text": [
      "     cognome      nome\n",
      "0  Trapanese  Giacobbe\n",
      "1  Barillaro  Giovanni\n",
      "2       Toso   Bettina\n",
      "3    Bettoni     Carlo\n",
      "4   Bompiani     Mauro\n",
      "5    Galuppi   Gustavo\n",
      "6    Tartini    Puccio\n",
      "7  Gagliardi      Tina\n",
      "8    Udinesi      Pier\n",
      "9     Turchi  Alderano\n"
     ]
    }
   ],
   "source": [
    "tab2 = tab[['cognome', 'nome']]\n",
    "print(tab2)"
   ]
  },
  {
   "cell_type": "code",
   "execution_count": 20,
   "metadata": {},
   "outputs": [
    {
     "name": "stdout",
     "output_type": "stream",
     "text": [
      "     cognome      nome\n",
      "1  Barillaro  Giovanni\n",
      "3    Bettoni     Carlo\n",
      "4   Bompiani     Mauro\n",
      "7  Gagliardi      Tina\n",
      "5    Galuppi   Gustavo\n",
      "6    Tartini    Puccio\n",
      "2       Toso   Bettina\n",
      "0  Trapanese  Giacobbe\n",
      "9     Turchi  Alderano\n",
      "8    Udinesi      Pier\n"
     ]
    }
   ],
   "source": [
    "tab3 = tab2.sort_values(by='cognome')\n",
    "print(tab3)"
   ]
  }
 ],
 "metadata": {
  "kernelspec": {
   "display_name": "Python 3",
   "language": "python",
   "name": "python3"
  },
  "language_info": {
   "codemirror_mode": {
    "name": "ipython",
    "version": 3
   },
   "file_extension": ".py",
   "mimetype": "text/x-python",
   "name": "python",
   "nbconvert_exporter": "python",
   "pygments_lexer": "ipython3",
   "version": "3.12.2"
  }
 },
 "nbformat": 4,
 "nbformat_minor": 2
}
