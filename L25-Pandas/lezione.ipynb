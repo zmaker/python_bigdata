{
 "cells": [
  {
   "cell_type": "markdown",
   "metadata": {},
   "source": [
    "## PANDAS"
   ]
  },
  {
   "cell_type": "code",
   "execution_count": 2,
   "metadata": {},
   "outputs": [],
   "source": [
    "import pandas as pd"
   ]
  },
  {
   "cell_type": "markdown",
   "metadata": {},
   "source": [
    "## series"
   ]
  },
  {
   "cell_type": "code",
   "execution_count": 3,
   "metadata": {},
   "outputs": [
    {
     "name": "stdout",
     "output_type": "stream",
     "text": [
      "0    10\n",
      "1    20\n",
      "2    30\n",
      "3    44\n",
      "4    55\n",
      "5    66\n",
      "6    77\n",
      "7    88\n",
      "dtype: int64\n"
     ]
    }
   ],
   "source": [
    "s = pd.Series([10,20,30,44,55,66,77,88])\n",
    "print(s)"
   ]
  },
  {
   "cell_type": "markdown",
   "metadata": {},
   "source": [
    "## DataFrame"
   ]
  },
  {
   "cell_type": "code",
   "execution_count": 4,
   "metadata": {},
   "outputs": [
    {
     "name": "stdout",
     "output_type": "stream",
     "text": [
      "          0         1         2         3\n",
      "0  0.969414  0.226297 -0.858557  1.130275\n",
      "1  0.699716  0.576207  1.071967  2.623805\n",
      "2  0.814643 -1.738701  0.945769  0.220692\n",
      "3 -0.467107 -1.294882 -0.297911 -0.098358\n",
      "4 -0.414677 -0.106646 -0.222341 -0.202712\n",
      "5  0.751129  0.814935 -0.837295 -0.004819\n"
     ]
    }
   ],
   "source": [
    "import numpy as np\n",
    "\n",
    "df = pd.DataFrame(np.random.randn(6,4))\n",
    "print(df)"
   ]
  },
  {
   "cell_type": "code",
   "execution_count": 5,
   "metadata": {},
   "outputs": [
    {
     "name": "stdout",
     "output_type": "stream",
     "text": [
      "         v1        v2        v3        v4\n",
      "0 -0.646023 -0.872814 -1.731863 -1.157554\n",
      "1 -0.361279  0.107831  0.588738  0.694190\n",
      "2  1.454608 -3.153063 -1.630195 -1.269407\n",
      "3  0.304916 -1.646066  1.481054  0.584907\n",
      "4  1.497510  0.542523 -0.320425  0.450182\n",
      "5 -0.107781  0.201735 -0.470518  0.065311\n"
     ]
    }
   ],
   "source": [
    "\n",
    "df = pd.DataFrame(np.random.randn(6,4), columns=['v1', 'v2', 'v3', 'v4'])\n",
    "print(df)"
   ]
  },
  {
   "cell_type": "code",
   "execution_count": 6,
   "metadata": {},
   "outputs": [
    {
     "name": "stdout",
     "output_type": "stream",
     "text": [
      "          A         B         C         D\n",
      "0 -0.077718  0.556081  1.584416  0.134996\n",
      "1  2.362931  0.628375  0.011269 -0.234856\n",
      "2 -1.094729  0.436583 -0.072112  0.314852\n",
      "3  1.131096  0.390515  0.832574  0.374405\n",
      "4  0.335716  0.025255  0.922217 -2.096150\n",
      "5 -0.651762  1.682293  0.320043  1.189241\n"
     ]
    }
   ],
   "source": [
    "df = pd.DataFrame(np.random.randn(6,4), columns=list(\"ABCD\"))\n",
    "print(df)"
   ]
  },
  {
   "cell_type": "code",
   "execution_count": 7,
   "metadata": {},
   "outputs": [
    {
     "name": "stdout",
     "output_type": "stream",
     "text": [
      "                   A         B         C         D\n",
      "2024-09-01 -0.756404  0.177227  1.222329 -1.226241\n",
      "2024-09-02 -0.677167 -0.822096  1.039088  1.215116\n",
      "2024-09-03  0.090443  0.843737 -1.959204 -1.146977\n",
      "2024-09-04 -0.210722 -0.256570  0.087701 -1.253889\n",
      "2024-09-05 -1.083556  0.546527  0.017294  0.184891\n",
      "2024-09-06 -0.978035  0.421686  0.729672 -0.337771\n"
     ]
    }
   ],
   "source": [
    "dates = pd.date_range(\"20240901\", periods=6)\n",
    "df = pd.DataFrame(np.random.randn(6,4), columns=list(\"ABCD\"), index=dates)\n",
    "print(df)"
   ]
  },
  {
   "cell_type": "code",
   "execution_count": 11,
   "metadata": {},
   "outputs": [
    {
     "name": "stdout",
     "output_type": "stream",
     "text": [
      "     A          B        C     D    E  F\n",
      "0  1.0 2024-09-01     mele  test  1.0  3\n",
      "1  1.0 2024-09-01     pere  test  1.0  3\n",
      "2  1.0 2024-09-01     kiwi  test  1.0  3\n",
      "3  1.0 2024-09-01  fragole  test  1.0  3\n"
     ]
    }
   ],
   "source": [
    "tab2 = pd.DataFrame(\n",
    "    {\n",
    "        \"A\": 1.0,\n",
    "        \"B\": pd.Timestamp(\"20240901\"),\n",
    "        \"C\": pd.Categorical([\"mele\", \"pere\", \"kiwi\", \"fragole\"]),\n",
    "        \"D\":\"test\",\n",
    "        \"E\": pd.Series(1, index=list(range(4)), dtype=\"float32\"),\n",
    "        \"F\": np.array([3]*4, dtype=\"int32\")\n",
    "    }\n",
    ")\n",
    "print(tab2)"
   ]
  },
  {
   "cell_type": "markdown",
   "metadata": {},
   "source": [
    "## leggo csv"
   ]
  },
  {
   "cell_type": "code",
   "execution_count": 12,
   "metadata": {},
   "outputs": [
    {
     "name": "stdout",
     "output_type": "stream",
     "text": [
      "        nome    cognome  peso  altezza data_nascita sesso\n",
      "0      Marco      Rossi  75.5      178   1990-01-15     M\n",
      "1       Anna      Verdi  62.0      165   1995-03-20     F\n",
      "2       Luca    Bianchi  80.0      182   1988-11-05     M\n",
      "3      Sofia       Neri  58.0      160   1997-07-12     F\n",
      "4     Davide     Gialli  72.0      175   1992-04-25     M\n",
      "5       Sara       Rosa  60.0      163   1998-09-08     F\n",
      "6     Andrea    Azzurri  78.0      180   1991-06-10     M\n",
      "7     Chiara      Viola  55.0      158   1999-12-22     F\n",
      "8     Matteo    Marroni  85.0      185   1987-02-18     M\n",
      "9  Valentina  Arancioni  63.0      167   1994-05-15     F\n"
     ]
    }
   ],
   "source": [
    "tab2 = pd.read_csv(\"persone.csv\", delimiter=',')\n",
    "print(tab2)"
   ]
  },
  {
   "cell_type": "code",
   "execution_count": 13,
   "metadata": {},
   "outputs": [
    {
     "name": "stdout",
     "output_type": "stream",
     "text": [
      "nome             object\n",
      "cognome          object\n",
      "peso            float64\n",
      "altezza           int64\n",
      "data_nascita     object\n",
      "sesso            object\n",
      "dtype: object\n"
     ]
    }
   ],
   "source": [
    "print(tab2.dtypes)"
   ]
  },
  {
   "cell_type": "code",
   "execution_count": 14,
   "metadata": {},
   "outputs": [
    {
     "name": "stdout",
     "output_type": "stream",
     "text": [
      "nome                    object\n",
      "cognome                 object\n",
      "peso                   float64\n",
      "altezza                  int64\n",
      "data_nascita    datetime64[ns]\n",
      "sesso                   object\n",
      "dtype: object\n",
      "        nome    cognome  peso  altezza data_nascita sesso\n",
      "0      Marco      Rossi  75.5      178   1990-01-15     M\n",
      "1       Anna      Verdi  62.0      165   1995-03-20     F\n",
      "2       Luca    Bianchi  80.0      182   1988-11-05     M\n",
      "3      Sofia       Neri  58.0      160   1997-07-12     F\n",
      "4     Davide     Gialli  72.0      175   1992-04-25     M\n",
      "5       Sara       Rosa  60.0      163   1998-09-08     F\n",
      "6     Andrea    Azzurri  78.0      180   1991-06-10     M\n",
      "7     Chiara      Viola  55.0      158   1999-12-22     F\n",
      "8     Matteo    Marroni  85.0      185   1987-02-18     M\n",
      "9  Valentina  Arancioni  63.0      167   1994-05-15     F\n"
     ]
    }
   ],
   "source": [
    "tab2['data_nascita'] = pd.to_datetime(tab2['data_nascita'])\n",
    "print(tab2.dtypes)\n",
    "print(tab2)"
   ]
  },
  {
   "cell_type": "code",
   "execution_count": 15,
   "metadata": {},
   "outputs": [
    {
     "data": {
      "text/plain": [
       "0        Marco\n",
       "1         Anna\n",
       "2         Luca\n",
       "3        Sofia\n",
       "4       Davide\n",
       "5         Sara\n",
       "6       Andrea\n",
       "7       Chiara\n",
       "8       Matteo\n",
       "9    Valentina\n",
       "Name: nome, dtype: object"
      ]
     },
     "execution_count": 15,
     "metadata": {},
     "output_type": "execute_result"
    }
   ],
   "source": [
    "tab2['nome']"
   ]
  },
  {
   "cell_type": "code",
   "execution_count": 16,
   "metadata": {},
   "outputs": [
    {
     "name": "stdout",
     "output_type": "stream",
     "text": [
      "        nome    cognome  peso  altezza data_nascita sesso   genere\n",
      "0      Marco      Rossi  75.5      178   1990-01-15     M  maschio\n",
      "1       Anna      Verdi  62.0      165   1995-03-20     F  femmina\n",
      "2       Luca    Bianchi  80.0      182   1988-11-05     M  maschio\n",
      "3      Sofia       Neri  58.0      160   1997-07-12     F  femmina\n",
      "4     Davide     Gialli  72.0      175   1992-04-25     M  maschio\n",
      "5       Sara       Rosa  60.0      163   1998-09-08     F  femmina\n",
      "6     Andrea    Azzurri  78.0      180   1991-06-10     M  maschio\n",
      "7     Chiara      Viola  55.0      158   1999-12-22     F  femmina\n",
      "8     Matteo    Marroni  85.0      185   1987-02-18     M  maschio\n",
      "9  Valentina  Arancioni  63.0      167   1994-05-15     F  femmina\n"
     ]
    }
   ],
   "source": [
    "tab2['genere'] = tab2[\"sesso\"].apply(lambda x: \"maschio\" if x=='M' else 'femmina' )\n",
    "print(tab2)"
   ]
  },
  {
   "cell_type": "code",
   "execution_count": 17,
   "metadata": {},
   "outputs": [
    {
     "name": "stdout",
     "output_type": "stream",
     "text": [
      "     cognome       nome\n",
      "0      Rossi      Marco\n",
      "1      Verdi       Anna\n",
      "2    Bianchi       Luca\n",
      "3       Neri      Sofia\n",
      "4     Gialli     Davide\n",
      "5       Rosa       Sara\n",
      "6    Azzurri     Andrea\n",
      "7      Viola     Chiara\n",
      "8    Marroni     Matteo\n",
      "9  Arancioni  Valentina\n"
     ]
    }
   ],
   "source": [
    "tab3 = tab2[['cognome', 'nome']]\n",
    "print(tab3)"
   ]
  },
  {
   "cell_type": "code",
   "execution_count": 18,
   "metadata": {},
   "outputs": [
    {
     "name": "stdout",
     "output_type": "stream",
     "text": [
      "     cognome       nome\n",
      "9  Arancioni  Valentina\n",
      "6    Azzurri     Andrea\n",
      "2    Bianchi       Luca\n",
      "4     Gialli     Davide\n",
      "8    Marroni     Matteo\n",
      "3       Neri      Sofia\n",
      "5       Rosa       Sara\n",
      "0      Rossi      Marco\n",
      "1      Verdi       Anna\n",
      "7      Viola     Chiara\n"
     ]
    }
   ],
   "source": [
    "tab4 = tab3.sort_values(by='cognome')\n",
    "print(tab4)"
   ]
  }
 ],
 "metadata": {
  "kernelspec": {
   "display_name": "Python 3",
   "language": "python",
   "name": "python3"
  },
  "language_info": {
   "codemirror_mode": {
    "name": "ipython",
    "version": 3
   },
   "file_extension": ".py",
   "mimetype": "text/x-python",
   "name": "python",
   "nbconvert_exporter": "python",
   "pygments_lexer": "ipython3",
   "version": "3.12.3"
  }
 },
 "nbformat": 4,
 "nbformat_minor": 2
}
