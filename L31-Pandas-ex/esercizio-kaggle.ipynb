{
 "cells": [
  {
   "cell_type": "markdown",
   "metadata": {},
   "source": [
    "## Esercizio Pandas\n",
    "\n",
    "Analisi dei dati di un dataset pubblico:\n",
    " - Scarica un dataset interessante da Kaggle (https://www.kaggle.com/) o da altre fonti.\n",
    " - Carica i dati in un DataFrame.\n",
    " - Esegui un'analisi esplorativa completa.\n",
    " - Prova a rispondere a domande specifiche sui dati."
   ]
  },
  {
   "cell_type": "code",
   "execution_count": null,
   "metadata": {},
   "outputs": [],
   "source": []
  }
 ],
 "metadata": {
  "language_info": {
   "name": "python"
  }
 },
 "nbformat": 4,
 "nbformat_minor": 2
}
