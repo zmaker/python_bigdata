{
 "cells": [
  {
   "cell_type": "markdown",
   "metadata": {},
   "source": [
    "## Esercizio Lotteria\n",
    "ispirato dal libro: DataScience con Python di Giuseppe Maggi - LSWR\n",
    "\n",
    "Genero una lista di 90 numeri"
   ]
  },
  {
   "cell_type": "code",
   "execution_count": 1,
   "metadata": {},
   "outputs": [
    {
     "name": "stdout",
     "output_type": "stream",
     "text": [
      "[ 1  2  3  4  5  6  7  8  9 10 11 12 13 14 15 16 17 18 19 20 21 22 23 24\n",
      " 25 26 27 28 29 30 31 32 33 34 35 36 37 38 39 40 41 42 43 44 45 46 47 48\n",
      " 49 50 51 52 53 54 55 56 57 58 59 60 61 62 63 64 65 66 67 68 69 70 71 72\n",
      " 73 74 75 76 77 78 79 80 81 82 83 84 85 86 87 88 89 90]\n"
     ]
    }
   ],
   "source": [
    "import numpy as np\n",
    "\n",
    "numeri = np.arange(1, 91)\n",
    "print(numeri)"
   ]
  },
  {
   "cell_type": "markdown",
   "metadata": {},
   "source": [
    "posso mescolare la lista con shuffle(). \n",
    "es:\n"
   ]
  },
  {
   "cell_type": "code",
   "execution_count": 2,
   "metadata": {},
   "outputs": [
    {
     "name": "stdout",
     "output_type": "stream",
     "text": [
      "[19 59 32 10 22 31 21 38 48 57  2 45 51 83 87 73 28 75  4 17 72 44 58 46\n",
      " 26 25 71 13 67 34 43 52 20 84 40  9 85 80  1 11 42 39 37 41 53 88 36 77\n",
      " 74  3 24  6 56 82 62 66 79 35 14 90 68 61 16 18 89 30  5 81 64  7 33 76\n",
      " 49 65 70 54  8 63 60 78 12 47 27 69 86 15 23 29 55 50]\n"
     ]
    }
   ],
   "source": [
    "np.random.shuffle(numeri)\n",
    "print(numeri)"
   ]
  },
  {
   "cell_type": "markdown",
   "metadata": {},
   "source": [
    "Creo una lista numpy vuota, in cui mettere le estrazioni"
   ]
  },
  {
   "cell_type": "code",
   "execution_count": 11,
   "metadata": {},
   "outputs": [],
   "source": [
    "estrazioni = np.array([])"
   ]
  },
  {
   "cell_type": "code",
   "execution_count": 12,
   "metadata": {},
   "outputs": [
    {
     "name": "stdout",
     "output_type": "stream",
     "text": [
      "[33 29 76 63 54]\n",
      "[19 75 41 15 58]\n",
      "[52 66 13 16 48]\n",
      "[54 80 20  1 26]\n",
      "[43 51 73 56 11]\n",
      "[[33. 29. 76. 63. 54.]\n",
      " [19. 75. 41. 15. 58.]\n",
      " [52. 66. 13. 16. 48.]\n",
      " [54. 80. 20.  1. 26.]\n",
      " [43. 51. 73. 56. 11.]]\n"
     ]
    }
   ],
   "source": [
    "for i in range(5):\n",
    "    #mescolo i numeri\n",
    "    np.random.shuffle(numeri)\n",
    "    estratti = numeri[0:5]\n",
    "    #print(estratti)\n",
    "\n",
    "    estrazioni = np.append(estrazioni, [estratti])\n",
    "\n",
    "estrazioni = estrazioni.reshape(5,5)\n",
    "print(estrazioni)"
   ]
  },
  {
   "cell_type": "code",
   "execution_count": 14,
   "metadata": {},
   "outputs": [
    {
     "name": "stdout",
     "output_type": "stream",
     "text": [
      "DatetimeIndex(['2024-09-01', '2024-09-02', '2024-09-03', '2024-09-04',\n",
      "               '2024-09-05'],\n",
      "              dtype='datetime64[ns]', freq='D')\n"
     ]
    }
   ],
   "source": [
    "import pandas as pd\n",
    "\n",
    "#creo un range di date a partire da una data e per 6 giorni\n",
    "dates = pd.date_range(\"20240901\", periods=5)\n",
    "print(dates)"
   ]
  },
  {
   "cell_type": "code",
   "execution_count": 19,
   "metadata": {},
   "outputs": [
    {
     "data": {
      "text/html": [
       "<div>\n",
       "<style scoped>\n",
       "    .dataframe tbody tr th:only-of-type {\n",
       "        vertical-align: middle;\n",
       "    }\n",
       "\n",
       "    .dataframe tbody tr th {\n",
       "        vertical-align: top;\n",
       "    }\n",
       "\n",
       "    .dataframe thead th {\n",
       "        text-align: right;\n",
       "    }\n",
       "</style>\n",
       "<table border=\"1\" class=\"dataframe\">\n",
       "  <thead>\n",
       "    <tr style=\"text-align: right;\">\n",
       "      <th></th>\n",
       "      <th>0</th>\n",
       "      <th>1</th>\n",
       "      <th>2</th>\n",
       "      <th>3</th>\n",
       "      <th>4</th>\n",
       "    </tr>\n",
       "  </thead>\n",
       "  <tbody>\n",
       "    <tr>\n",
       "      <th>2024-09-01</th>\n",
       "      <td>33.0</td>\n",
       "      <td>29.0</td>\n",
       "      <td>76.0</td>\n",
       "      <td>63.0</td>\n",
       "      <td>54.0</td>\n",
       "    </tr>\n",
       "    <tr>\n",
       "      <th>2024-09-02</th>\n",
       "      <td>19.0</td>\n",
       "      <td>75.0</td>\n",
       "      <td>41.0</td>\n",
       "      <td>15.0</td>\n",
       "      <td>58.0</td>\n",
       "    </tr>\n",
       "    <tr>\n",
       "      <th>2024-09-03</th>\n",
       "      <td>52.0</td>\n",
       "      <td>66.0</td>\n",
       "      <td>13.0</td>\n",
       "      <td>16.0</td>\n",
       "      <td>48.0</td>\n",
       "    </tr>\n",
       "    <tr>\n",
       "      <th>2024-09-04</th>\n",
       "      <td>54.0</td>\n",
       "      <td>80.0</td>\n",
       "      <td>20.0</td>\n",
       "      <td>1.0</td>\n",
       "      <td>26.0</td>\n",
       "    </tr>\n",
       "    <tr>\n",
       "      <th>2024-09-05</th>\n",
       "      <td>43.0</td>\n",
       "      <td>51.0</td>\n",
       "      <td>73.0</td>\n",
       "      <td>56.0</td>\n",
       "      <td>11.0</td>\n",
       "    </tr>\n",
       "  </tbody>\n",
       "</table>\n",
       "</div>"
      ],
      "text/plain": [
       "               0     1     2     3     4\n",
       "2024-09-01  33.0  29.0  76.0  63.0  54.0\n",
       "2024-09-02  19.0  75.0  41.0  15.0  58.0\n",
       "2024-09-03  52.0  66.0  13.0  16.0  48.0\n",
       "2024-09-04  54.0  80.0  20.0   1.0  26.0\n",
       "2024-09-05  43.0  51.0  73.0  56.0  11.0"
      ]
     },
     "execution_count": 19,
     "metadata": {},
     "output_type": "execute_result"
    }
   ],
   "source": [
    "#poi genero i dati\n",
    "df = pd.DataFrame(data=estrazioni, index=dates)\n",
    "df"
   ]
  },
  {
   "cell_type": "markdown",
   "metadata": {},
   "source": [
    "cerco i ritardatari - servono le frequenze di apparizione dei numeri\n",
    "\n",
    "devo contare da quante estrazioni non appare. Coviene partire dal fondo del data frame"
   ]
  },
  {
   "cell_type": "code",
   "execution_count": 20,
   "metadata": {},
   "outputs": [
    {
     "name": "stdout",
     "output_type": "stream",
     "text": [
      "0    43.0\n",
      "1    51.0\n",
      "2    73.0\n",
      "3    56.0\n",
      "4    11.0\n",
      "Name: 2024-09-05 00:00:00, dtype: float64\n",
      "0    54.0\n",
      "1    80.0\n",
      "2    20.0\n",
      "3     1.0\n",
      "4    26.0\n",
      "Name: 2024-09-04 00:00:00, dtype: float64\n",
      "0    52.0\n",
      "1    66.0\n",
      "2    13.0\n",
      "3    16.0\n",
      "4    48.0\n",
      "Name: 2024-09-03 00:00:00, dtype: float64\n",
      "0    19.0\n",
      "1    75.0\n",
      "2    41.0\n",
      "3    15.0\n",
      "4    58.0\n",
      "Name: 2024-09-02 00:00:00, dtype: float64\n",
      "0    33.0\n",
      "1    29.0\n",
      "2    76.0\n",
      "3    63.0\n",
      "4    54.0\n",
      "Name: 2024-09-01 00:00:00, dtype: float64\n"
     ]
    }
   ],
   "source": [
    "for i in range(len(df)-1, -1, -1):  # Da len(df)-1 (ultima riga) a 0 (prima riga)\n",
    "    #prelevo la riga\n",
    "    print(df.iloc[i])"
   ]
  },
  {
   "cell_type": "markdown",
   "metadata": {},
   "source": [
    "serve un dizionario\n",
    "per ogni numero della riga... se non è nel dizionario, lo aggiungo inserendo il numero di giorni (è l'indice della riga)"
   ]
  },
  {
   "cell_type": "code",
   "execution_count": 22,
   "metadata": {},
   "outputs": [],
   "source": [
    "ritardatari={}\n",
    "for i in range(len(df)-1, -1, -1):  # Da len(df)-1 (ultima riga) a 0 (prima riga)\n",
    "    #prelevo la riga\n",
    "    riga = df.iloc[i]\n",
    "    for num in riga:\n",
    "        #print(num, i)\n",
    "        if num not in ritardatari:\n",
    "            ritardatari[num] = i"
   ]
  },
  {
   "cell_type": "code",
   "execution_count": 31,
   "metadata": {},
   "outputs": [
    {
     "data": {
      "text/html": [
       "<div>\n",
       "<style scoped>\n",
       "    .dataframe tbody tr th:only-of-type {\n",
       "        vertical-align: middle;\n",
       "    }\n",
       "\n",
       "    .dataframe tbody tr th {\n",
       "        vertical-align: top;\n",
       "    }\n",
       "\n",
       "    .dataframe thead th {\n",
       "        text-align: right;\n",
       "    }\n",
       "</style>\n",
       "<table border=\"1\" class=\"dataframe\">\n",
       "  <thead>\n",
       "    <tr style=\"text-align: right;\">\n",
       "      <th></th>\n",
       "      <th>Valore</th>\n",
       "      <th>Conteggio</th>\n",
       "    </tr>\n",
       "  </thead>\n",
       "  <tbody>\n",
       "    <tr>\n",
       "      <th>0</th>\n",
       "      <td>43.0</td>\n",
       "      <td>4</td>\n",
       "    </tr>\n",
       "    <tr>\n",
       "      <th>1</th>\n",
       "      <td>51.0</td>\n",
       "      <td>4</td>\n",
       "    </tr>\n",
       "    <tr>\n",
       "      <th>2</th>\n",
       "      <td>73.0</td>\n",
       "      <td>4</td>\n",
       "    </tr>\n",
       "    <tr>\n",
       "      <th>3</th>\n",
       "      <td>56.0</td>\n",
       "      <td>4</td>\n",
       "    </tr>\n",
       "    <tr>\n",
       "      <th>4</th>\n",
       "      <td>11.0</td>\n",
       "      <td>4</td>\n",
       "    </tr>\n",
       "    <tr>\n",
       "      <th>5</th>\n",
       "      <td>54.0</td>\n",
       "      <td>3</td>\n",
       "    </tr>\n",
       "    <tr>\n",
       "      <th>6</th>\n",
       "      <td>80.0</td>\n",
       "      <td>3</td>\n",
       "    </tr>\n",
       "    <tr>\n",
       "      <th>7</th>\n",
       "      <td>20.0</td>\n",
       "      <td>3</td>\n",
       "    </tr>\n",
       "    <tr>\n",
       "      <th>8</th>\n",
       "      <td>1.0</td>\n",
       "      <td>3</td>\n",
       "    </tr>\n",
       "    <tr>\n",
       "      <th>9</th>\n",
       "      <td>26.0</td>\n",
       "      <td>3</td>\n",
       "    </tr>\n",
       "    <tr>\n",
       "      <th>10</th>\n",
       "      <td>52.0</td>\n",
       "      <td>2</td>\n",
       "    </tr>\n",
       "    <tr>\n",
       "      <th>11</th>\n",
       "      <td>66.0</td>\n",
       "      <td>2</td>\n",
       "    </tr>\n",
       "    <tr>\n",
       "      <th>12</th>\n",
       "      <td>13.0</td>\n",
       "      <td>2</td>\n",
       "    </tr>\n",
       "    <tr>\n",
       "      <th>13</th>\n",
       "      <td>16.0</td>\n",
       "      <td>2</td>\n",
       "    </tr>\n",
       "    <tr>\n",
       "      <th>14</th>\n",
       "      <td>48.0</td>\n",
       "      <td>2</td>\n",
       "    </tr>\n",
       "    <tr>\n",
       "      <th>15</th>\n",
       "      <td>19.0</td>\n",
       "      <td>1</td>\n",
       "    </tr>\n",
       "    <tr>\n",
       "      <th>16</th>\n",
       "      <td>75.0</td>\n",
       "      <td>1</td>\n",
       "    </tr>\n",
       "    <tr>\n",
       "      <th>17</th>\n",
       "      <td>41.0</td>\n",
       "      <td>1</td>\n",
       "    </tr>\n",
       "    <tr>\n",
       "      <th>18</th>\n",
       "      <td>15.0</td>\n",
       "      <td>1</td>\n",
       "    </tr>\n",
       "    <tr>\n",
       "      <th>19</th>\n",
       "      <td>58.0</td>\n",
       "      <td>1</td>\n",
       "    </tr>\n",
       "    <tr>\n",
       "      <th>20</th>\n",
       "      <td>33.0</td>\n",
       "      <td>0</td>\n",
       "    </tr>\n",
       "    <tr>\n",
       "      <th>21</th>\n",
       "      <td>29.0</td>\n",
       "      <td>0</td>\n",
       "    </tr>\n",
       "    <tr>\n",
       "      <th>22</th>\n",
       "      <td>76.0</td>\n",
       "      <td>0</td>\n",
       "    </tr>\n",
       "    <tr>\n",
       "      <th>23</th>\n",
       "      <td>63.0</td>\n",
       "      <td>0</td>\n",
       "    </tr>\n",
       "  </tbody>\n",
       "</table>\n",
       "</div>"
      ],
      "text/plain": [
       "    Valore  Conteggio\n",
       "0     43.0          4\n",
       "1     51.0          4\n",
       "2     73.0          4\n",
       "3     56.0          4\n",
       "4     11.0          4\n",
       "5     54.0          3\n",
       "6     80.0          3\n",
       "7     20.0          3\n",
       "8      1.0          3\n",
       "9     26.0          3\n",
       "10    52.0          2\n",
       "11    66.0          2\n",
       "12    13.0          2\n",
       "13    16.0          2\n",
       "14    48.0          2\n",
       "15    19.0          1\n",
       "16    75.0          1\n",
       "17    41.0          1\n",
       "18    15.0          1\n",
       "19    58.0          1\n",
       "20    33.0          0\n",
       "21    29.0          0\n",
       "22    76.0          0\n",
       "23    63.0          0"
      ]
     },
     "execution_count": 31,
     "metadata": {},
     "output_type": "execute_result"
    }
   ],
   "source": [
    "df = pd.DataFrame(list(ritardatari.items()), columns=['Valore', 'Conteggio'])\n",
    "df\n"
   ]
  }
 ],
 "metadata": {
  "kernelspec": {
   "display_name": "Python 3",
   "language": "python",
   "name": "python3"
  },
  "language_info": {
   "codemirror_mode": {
    "name": "ipython",
    "version": 3
   },
   "file_extension": ".py",
   "mimetype": "text/x-python",
   "name": "python",
   "nbconvert_exporter": "python",
   "pygments_lexer": "ipython3",
   "version": "3.12.3"
  }
 },
 "nbformat": 4,
 "nbformat_minor": 2
}
