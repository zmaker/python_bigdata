{
 "cells": [
  {
   "cell_type": "markdown",
   "id": "4fe8ab44-d94f-42b7-850b-8b5e7171bcc9",
   "metadata": {},
   "source": [
    "## Esercizio Dati Bancari"
   ]
  },
  {
   "cell_type": "code",
   "execution_count": 2,
   "id": "4c963e9b-7b09-414f-a417-b394fed8d15e",
   "metadata": {},
   "outputs": [],
   "source": [
    "from pyspark.sql import SparkSession\n",
    "ss = SparkSession.builder.getOrCreate()\n",
    "sc = ss.sparkContext"
   ]
  },
  {
   "cell_type": "code",
   "execution_count": 5,
   "id": "ee313595-c4d3-46b5-a14f-36b87a2f109d",
   "metadata": {},
   "outputs": [],
   "source": [
    "rdd = sc.textFile('movimenti_bancari.csv')"
   ]
  },
  {
   "cell_type": "code",
   "execution_count": 6,
   "id": "b8966947-de15-4247-b3be-22ba71f6f929",
   "metadata": {},
   "outputs": [
    {
     "data": {
      "text/plain": [
       "41"
      ]
     },
     "execution_count": 6,
     "metadata": {},
     "output_type": "execute_result"
    }
   ],
   "source": [
    "rdd.count()"
   ]
  },
  {
   "cell_type": "code",
   "execution_count": 12,
   "id": "59d876a6-c867-4345-af9f-40d480eb2858",
   "metadata": {},
   "outputs": [],
   "source": [
    "# Estrai la prima riga (intestazione)\n",
    "header = rdd.first()\n",
    "\n",
    "# Filtra via l'intestazione\n",
    "rdd2 = rdd.filter(lambda row: row != header)"
   ]
  },
  {
   "cell_type": "markdown",
   "id": "5ebef65a-16d3-4cad-b458-e646fb0f65bb",
   "metadata": {},
   "source": [
    "Conteggio i record suddivisi per categoria. Creo una funzione che prende una riga e crea una tupla con cat e importo (CIN, 123.0)"
   ]
  },
  {
   "cell_type": "code",
   "execution_count": 7,
   "id": "d7bb2e9a-5251-4535-bdcd-65c6acd59543",
   "metadata": {},
   "outputs": [],
   "source": [
    "def f1(row):\n",
    "    tok = row.split(',')\n",
    "    return (tok[3], float(tok[2]))"
   ]
  },
  {
   "cell_type": "markdown",
   "id": "47fc6ce6-2515-4692-ac6e-5e4fdad10430",
   "metadata": {},
   "source": [
    "### rdd3 = rdd2.map(f1)\n",
    "rdd3.take(2)"
   ]
  },
  {
   "cell_type": "code",
   "execution_count": 14,
   "id": "6d44dfaa-f3c1-4963-9d9e-9a115cc68cb7",
   "metadata": {},
   "outputs": [
    {
     "data": {
      "text/plain": [
       "defaultdict(int, {'CIN': 9, 'COUT': 10, 'BOUT': 10, 'BIN': 11})"
      ]
     },
     "execution_count": 14,
     "metadata": {},
     "output_type": "execute_result"
    }
   ],
   "source": [
    "rdd3.countByKey()"
   ]
  },
  {
   "cell_type": "markdown",
   "id": "bd33879b-44a7-4b0b-8972-a435865904c8",
   "metadata": {},
   "source": [
    "**Saldo per mese per conto** \n",
    "\n",
    "Serve una nuova funzione\n"
   ]
  },
  {
   "cell_type": "code",
   "execution_count": 17,
   "id": "00d58f54-4a14-452b-b173-ba000b41966b",
   "metadata": {},
   "outputs": [],
   "source": [
    "from datetime import datetime as dt\n",
    "def f2(row):\n",
    "    tok = row.split(',')\n",
    "    mm = dt.strptime(tok[0], '%Y-%m-%d').month\n",
    "    num_conto = tok[1]\n",
    "    importo = float(tok[2])\n",
    "    return ((mm, num_conto), importo)\n",
    "    "
   ]
  },
  {
   "cell_type": "code",
   "execution_count": 18,
   "id": "1753f977-4ccc-41d8-afeb-40af230929a5",
   "metadata": {},
   "outputs": [
    {
     "data": {
      "text/plain": [
       "[((1, '1003'), 2321.06), ((1, '1004'), -5996.37)]"
      ]
     },
     "execution_count": 18,
     "metadata": {},
     "output_type": "execute_result"
    }
   ],
   "source": [
    "rdd4 = rdd2.map(f2)\n",
    "rdd4.take(2)"
   ]
  },
  {
   "cell_type": "markdown",
   "id": "cea3523e-89c2-4313-907d-e8b98c67cd12",
   "metadata": {},
   "source": [
    "la somma per ogni mese, per ogni conto"
   ]
  },
  {
   "cell_type": "code",
   "execution_count": 25,
   "id": "6fd66523-dec6-46a4-897d-c727cb28f3d0",
   "metadata": {},
   "outputs": [
    {
     "data": {
      "text/plain": [
       "[((1, '1003'), 2321.06),\n",
       " ((1, '1004'), -5996.37),\n",
       " ((1, '1005'), -7718.04),\n",
       " ((1, '1002'), 3079.6),\n",
       " ((2, '1004'), -5944.24),\n",
       " ((2, '1001'), 1220.3999999999996),\n",
       " ((3, '1005'), -8900.0),\n",
       " ((3, '1004'), -5839.11),\n",
       " ((3, '1002'), -759.59),\n",
       " ((4, '1004'), 1341.11),\n",
       " ((4, '1001'), 665.49),\n",
       " ((5, '1003'), -6272.51),\n",
       " ((5, '1004'), 272.18),\n",
       " ((6, '1002'), -8037.69),\n",
       " ((6, '1003'), -1028.71),\n",
       " ((6, '1004'), 5423.0),\n",
       " ((7, '1004'), -9036.82),\n",
       " ((7, '1002'), 6436.84),\n",
       " ((7, '1003'), -663.79),\n",
       " ((7, '1001'), 7525.13),\n",
       " ((8, '1001'), -865.25),\n",
       " ((9, '1002'), -1025.09),\n",
       " ((9, '1004'), -8616.98),\n",
       " ((9, '1001'), 968.7),\n",
       " ((10, '1002'), -872.73),\n",
       " ((10, '1001'), -4376.05),\n",
       " ((11, '1002'), 8737.210000000001),\n",
       " ((11, '1003'), -3922.4300000000003),\n",
       " ((12, '1001'), 9687.24),\n",
       " ((12, '1005'), 8637.24)]"
      ]
     },
     "execution_count": 25,
     "metadata": {},
     "output_type": "execute_result"
    }
   ],
   "source": [
    "saldo_mese = rdd4.reduceByKey(lambda a,b : a+b)\n",
    "saldo_mese.collect()"
   ]
  },
  {
   "cell_type": "markdown",
   "id": "9ce6b208-becd-4bbe-b865-f2b5ed038880",
   "metadata": {},
   "source": [
    "se voglio limitarla a u nsolo conto\n"
   ]
  },
  {
   "cell_type": "code",
   "execution_count": 26,
   "id": "3c031cc2-1c57-4ef9-a4cb-59c1dfc89ddf",
   "metadata": {},
   "outputs": [
    {
     "data": {
      "text/plain": [
       "[((2, '1001'), 1220.3999999999996),\n",
       " ((4, '1001'), 665.49),\n",
       " ((7, '1001'), 7525.13),\n",
       " ((8, '1001'), -865.25),\n",
       " ((9, '1001'), 968.7),\n",
       " ((10, '1001'), -4376.05),\n",
       " ((12, '1001'), 9687.24)]"
      ]
     },
     "execution_count": 26,
     "metadata": {},
     "output_type": "execute_result"
    }
   ],
   "source": [
    "saldo_mese.filter(lambda r : r[0][1] == '1001').sortByKey().collect()"
   ]
  }
 ],
 "metadata": {
  "kernelspec": {
   "display_name": "Python 3 (ipykernel)",
   "language": "python",
   "name": "python3"
  },
  "language_info": {
   "codemirror_mode": {
    "name": "ipython",
    "version": 3
   },
   "file_extension": ".py",
   "mimetype": "text/x-python",
   "name": "python",
   "nbconvert_exporter": "python",
   "pygments_lexer": "ipython3",
   "version": "3.10.15"
  }
 },
 "nbformat": 4,
 "nbformat_minor": 5
}
