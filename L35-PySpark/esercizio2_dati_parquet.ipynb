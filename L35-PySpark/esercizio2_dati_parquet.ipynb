{
 "cells": [
  {
   "cell_type": "code",
   "execution_count": 1,
   "id": "6f43ec96-d837-496d-9262-d6c1658abfa2",
   "metadata": {},
   "outputs": [],
   "source": [
    "from pyspark.sql import SparkSession\n",
    "ss = SparkSession.builder.getOrCreate()\n",
    "sc = ss.sparkContext"
   ]
  },
  {
   "cell_type": "code",
   "execution_count": 2,
   "id": "25b5d192-059c-4f86-805b-e8db279cfe97",
   "metadata": {},
   "outputs": [],
   "source": [
    "df = ss.read.parquet('movimenti_bancari.parquet')"
   ]
  },
  {
   "cell_type": "code",
   "execution_count": 3,
   "id": "84aa35e4-2ffa-429e-9a02-295060b8c362",
   "metadata": {},
   "outputs": [
    {
     "data": {
      "text/plain": [
       "146"
      ]
     },
     "execution_count": 3,
     "metadata": {},
     "output_type": "execute_result"
    }
   ],
   "source": [
    "df.count()"
   ]
  },
  {
   "cell_type": "code",
   "execution_count": 4,
   "id": "e5b08aec-9f2b-4ff2-8c23-eb6df7200982",
   "metadata": {},
   "outputs": [],
   "source": [
    "df.createOrReplaceTempView('banca')"
   ]
  },
  {
   "cell_type": "code",
   "execution_count": 5,
   "id": "58624c76-f206-4516-9278-5e7afbbb5828",
   "metadata": {},
   "outputs": [
    {
     "name": "stdout",
     "output_type": "stream",
     "text": [
      "+----------+-----+-------+------+\n",
      "|      Data|Conto|Importo|Azione|\n",
      "+----------+-----+-------+------+\n",
      "|2024-01-05|  345|-103.32|  COUT|\n",
      "+----------+-----+-------+------+\n",
      "only showing top 1 row\n",
      "\n"
     ]
    }
   ],
   "source": [
    "df.show(1)"
   ]
  },
  {
   "cell_type": "code",
   "execution_count": 7,
   "id": "f3772af5-a5a3-440e-aafc-8970900c0bf9",
   "metadata": {},
   "outputs": [
    {
     "name": "stdout",
     "output_type": "stream",
     "text": [
      "+-----+-------------------+\n",
      "|Conto|       sum(Importo)|\n",
      "+-----+-------------------+\n",
      "|  234|-1636.2500000000005|\n",
      "|  678|           -2339.76|\n",
      "|  345| 112.15999999999929|\n",
      "|  123|            -7018.8|\n",
      "|  545|-1384.8400000000004|\n",
      "+-----+-------------------+\n",
      "\n"
     ]
    }
   ],
   "source": [
    "ss.sql(\"SELECT Conto, sum(Importo) FROM banca group by Conto\").show()"
   ]
  },
  {
   "cell_type": "code",
   "execution_count": 8,
   "id": "6d2f3252-d9bb-4f4c-84d7-be4966a881e0",
   "metadata": {},
   "outputs": [
    {
     "name": "stdout",
     "output_type": "stream",
     "text": [
      "+------+-------------------+\n",
      "|Azione|       sum(Importo)|\n",
      "+------+-------------------+\n",
      "|  BOUT|-21915.170000000002|\n",
      "|   CIN|           18789.93|\n",
      "|  COUT|          -26204.02|\n",
      "|   BIN| 17061.769999999997|\n",
      "+------+-------------------+\n",
      "\n"
     ]
    }
   ],
   "source": [
    "ss.sql('SELECT Azione, sum(Importo) FROM banca group by Azione').show()"
   ]
  },
  {
   "cell_type": "code",
   "execution_count": 9,
   "id": "fcdd4854-8ea2-4301-9b28-4fe5b3863fb5",
   "metadata": {},
   "outputs": [
    {
     "name": "stdout",
     "output_type": "stream",
     "text": [
      "+------+-------------+\n",
      "|Azione|count(Azione)|\n",
      "+------+-------------+\n",
      "|  BOUT|           37|\n",
      "|   CIN|           32|\n",
      "|  COUT|           50|\n",
      "|   BIN|           27|\n",
      "+------+-------------+\n",
      "\n"
     ]
    }
   ],
   "source": [
    "ss.sql('SELECT Azione, count(Azione) FROM banca group by Azione').show()"
   ]
  }
 ],
 "metadata": {
  "kernelspec": {
   "display_name": "Python 3 (ipykernel)",
   "language": "python",
   "name": "python3"
  },
  "language_info": {
   "codemirror_mode": {
    "name": "ipython",
    "version": 3
   },
   "file_extension": ".py",
   "mimetype": "text/x-python",
   "name": "python",
   "nbconvert_exporter": "python",
   "pygments_lexer": "ipython3",
   "version": "3.10.15"
  }
 },
 "nbformat": 4,
 "nbformat_minor": 5
}
