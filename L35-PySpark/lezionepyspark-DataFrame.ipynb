{
 "cells": [
  {
   "cell_type": "code",
   "execution_count": 2,
   "id": "9058f8ce-b88e-44db-9125-588be0c5c2aa",
   "metadata": {},
   "outputs": [],
   "source": [
    "from pyspark.sql import SparkSession\n",
    "\n",
    "ss = SparkSession.builder.getOrCreate()"
   ]
  },
  {
   "cell_type": "code",
   "execution_count": 5,
   "id": "1fe34842-1614-4ffe-93a9-0684fcaf374a",
   "metadata": {},
   "outputs": [
    {
     "name": "stdout",
     "output_type": "stream",
     "text": [
      "+-----+--------+-------+----+-----------+-----+\n",
      "| nome| cognome|altezza|peso|datanascita|sesso|\n",
      "+-----+--------+-------+----+-----------+-----+\n",
      "|Mario|   Rossi|   1.78|  70| 1995-05-01|    M|\n",
      "|Luigi| Bianchi|   1.67|  71| 1995-06-02|    M|\n",
      "| John|     Doe|   1.64|  61| 1995-07-03|    M|\n",
      "| Anna|    Blue|    1.7|  60| 1995-08-04|    F|\n",
      "|Viola|Scarlett|   1.72|  62| 1995-09-05|    F|\n",
      "|Maria|   Brown|   1.85|  80| 1996-01-01|    F|\n",
      "+-----+--------+-------+----+-----------+-----+\n",
      "\n"
     ]
    }
   ],
   "source": [
    "df = ss.read.csv('persone.txt', sep=';', header=True, inferSchema=True)\n",
    "df.show()\n"
   ]
  },
  {
   "cell_type": "code",
   "execution_count": 6,
   "id": "92a7539b-0ea0-4209-b44b-f344f5fa588e",
   "metadata": {},
   "outputs": [
    {
     "name": "stdout",
     "output_type": "stream",
     "text": [
      "root\n",
      " |-- nome: string (nullable = true)\n",
      " |-- cognome: string (nullable = true)\n",
      " |-- altezza: double (nullable = true)\n",
      " |-- peso: integer (nullable = true)\n",
      " |-- datanascita: date (nullable = true)\n",
      " |-- sesso: string (nullable = true)\n",
      "\n"
     ]
    }
   ],
   "source": [
    "df.printSchema()"
   ]
  },
  {
   "cell_type": "code",
   "execution_count": 7,
   "id": "a60e4bbf-4712-4e6f-b1ee-7b6474d0f12d",
   "metadata": {},
   "outputs": [
    {
     "data": {
      "text/plain": [
       "6"
      ]
     },
     "execution_count": 7,
     "metadata": {},
     "output_type": "execute_result"
    }
   ],
   "source": [
    "df.count()"
   ]
  },
  {
   "cell_type": "code",
   "execution_count": 8,
   "id": "2640b52c-8a41-48a7-909a-ab39d7465117",
   "metadata": {},
   "outputs": [
    {
     "name": "stdout",
     "output_type": "stream",
     "text": [
      "+-----+--------+-------+----+-----------+-----+\n",
      "| nome| cognome|altezza|peso|datanascita|sesso|\n",
      "+-----+--------+-------+----+-----------+-----+\n",
      "| Anna|    Blue|    1.7|  60| 1995-08-04|    F|\n",
      "|Viola|Scarlett|   1.72|  62| 1995-09-05|    F|\n",
      "|Maria|   Brown|   1.85|  80| 1996-01-01|    F|\n",
      "+-----+--------+-------+----+-----------+-----+\n",
      "\n"
     ]
    }
   ],
   "source": [
    "df2 = df.filter( df['sesso'] == 'F' )\n",
    "df2.show()"
   ]
  },
  {
   "cell_type": "code",
   "execution_count": 9,
   "id": "23aa7a53-9c50-4dce-9f46-61e94476e8aa",
   "metadata": {},
   "outputs": [
    {
     "name": "stdout",
     "output_type": "stream",
     "text": [
      "+-----+-----+\n",
      "|sesso|count|\n",
      "+-----+-----+\n",
      "|    F|    3|\n",
      "|    M|    3|\n",
      "+-----+-----+\n",
      "\n"
     ]
    }
   ],
   "source": [
    "df3 = df.groupBy(\"sesso\").count()\n",
    "df3.show()"
   ]
  },
  {
   "cell_type": "code",
   "execution_count": 10,
   "id": "c6d4c5ff-623c-462c-aaf5-3155f9a803e8",
   "metadata": {},
   "outputs": [
    {
     "name": "stdout",
     "output_type": "stream",
     "text": [
      "+--------+-------+---+\n",
      "|    nome|cognome|eta|\n",
      "+--------+-------+---+\n",
      "|   Mario|  Rossi| 25|\n",
      "|   Luigi|Bianchi| 34|\n",
      "|Giuseppe|  Verdi| 18|\n",
      "+--------+-------+---+\n",
      "\n"
     ]
    }
   ],
   "source": [
    "#RDD a DF\n",
    "sc = ss.sparkContext\n",
    "dati = [ ('Mario', 'Rossi', 25), ('Luigi', 'Bianchi', 34), ('Giuseppe', 'Verdi', 18)]\n",
    "rdd = sc.parallelize( dati )\n",
    "df4 = ss.createDataFrame(rdd, ['nome', 'cognome', 'eta'])\n",
    "df4.show()\n"
   ]
  },
  {
   "cell_type": "code",
   "execution_count": 11,
   "id": "9c198ccb-7bf4-4e4d-855b-e686d5cd62e0",
   "metadata": {},
   "outputs": [
    {
     "name": "stdout",
     "output_type": "stream",
     "text": [
      "+-----+-------+---+\n",
      "| nome|cognome|eta|\n",
      "+-----+-------+---+\n",
      "|Mario|  Rossi| 25|\n",
      "+-----+-------+---+\n",
      "only showing top 1 row\n",
      "\n"
     ]
    }
   ],
   "source": [
    "df4.show(1)"
   ]
  },
  {
   "cell_type": "code",
   "execution_count": 12,
   "id": "001a2090-f755-4da5-baee-382d17c9f8d7",
   "metadata": {},
   "outputs": [
    {
     "data": {
      "text/html": [
       "<table border='1'>\n",
       "<tr><th>nome</th><th>cognome</th><th>eta</th></tr>\n",
       "<tr><td>Mario</td><td>Rossi</td><td>25</td></tr>\n",
       "<tr><td>Luigi</td><td>Bianchi</td><td>34</td></tr>\n",
       "<tr><td>Giuseppe</td><td>Verdi</td><td>18</td></tr>\n",
       "</table>\n"
      ],
      "text/plain": [
       "+--------+-------+---+\n",
       "|    nome|cognome|eta|\n",
       "+--------+-------+---+\n",
       "|   Mario|  Rossi| 25|\n",
       "|   Luigi|Bianchi| 34|\n",
       "|Giuseppe|  Verdi| 18|\n",
       "+--------+-------+---+"
      ]
     },
     "execution_count": 12,
     "metadata": {},
     "output_type": "execute_result"
    }
   ],
   "source": [
    "spark.conf.set('spark.sql.repl.eagerEval.enabled', True)\n",
    "df4"
   ]
  },
  {
   "cell_type": "code",
   "execution_count": 13,
   "id": "9b40ab5e-9eee-451e-ae23-3f0eae3a7670",
   "metadata": {},
   "outputs": [
    {
     "name": "stdout",
     "output_type": "stream",
     "text": [
      "-RECORD 0--------\n",
      " nome    | Mario \n",
      " cognome | Rossi \n",
      " eta     | 25    \n",
      "only showing top 1 row\n",
      "\n"
     ]
    }
   ],
   "source": [
    "df4.show(1, vertical=True)"
   ]
  },
  {
   "cell_type": "code",
   "execution_count": 14,
   "id": "77315633-3810-404a-9177-59c59cefa2f0",
   "metadata": {},
   "outputs": [
    {
     "data": {
      "text/plain": [
       "['nome', 'cognome', 'eta']"
      ]
     },
     "execution_count": 14,
     "metadata": {},
     "output_type": "execute_result"
    }
   ],
   "source": [
    "df4.columns"
   ]
  },
  {
   "cell_type": "code",
   "execution_count": 15,
   "id": "c904fa3f-2f1a-4cb8-a355-570124c28ca7",
   "metadata": {},
   "outputs": [
    {
     "data": {
      "text/html": [
       "<table border='1'>\n",
       "<tr><th>nome</th><th>cognome</th><th>altezza</th><th>peso</th><th>datanascita</th><th>sesso</th></tr>\n",
       "<tr><td>Anna</td><td>Blue</td><td>1.7</td><td>60</td><td>1995-08-04</td><td>F</td></tr>\n",
       "<tr><td>Viola</td><td>Scarlett</td><td>1.72</td><td>62</td><td>1995-09-05</td><td>F</td></tr>\n",
       "<tr><td>Maria</td><td>Brown</td><td>1.85</td><td>80</td><td>1996-01-01</td><td>F</td></tr>\n",
       "</table>\n"
      ],
      "text/plain": [
       "+-----+--------+-------+----+-----------+-----+\n",
       "| nome| cognome|altezza|peso|datanascita|sesso|\n",
       "+-----+--------+-------+----+-----------+-----+\n",
       "| Anna|    Blue|    1.7|  60| 1995-08-04|    F|\n",
       "|Viola|Scarlett|   1.72|  62| 1995-09-05|    F|\n",
       "|Maria|   Brown|   1.85|  80| 1996-01-01|    F|\n",
       "+-----+--------+-------+----+-----------+-----+"
      ]
     },
     "execution_count": 15,
     "metadata": {},
     "output_type": "execute_result"
    }
   ],
   "source": [
    "df2"
   ]
  },
  {
   "cell_type": "code",
   "execution_count": 16,
   "id": "74a4ec95-43b0-412a-a79f-de02b383751a",
   "metadata": {},
   "outputs": [
    {
     "data": {
      "text/html": [
       "<table border='1'>\n",
       "<tr><th>cognome</th><th>altezza</th></tr>\n",
       "<tr><td>Blue</td><td>1.7</td></tr>\n",
       "<tr><td>Scarlett</td><td>1.72</td></tr>\n",
       "<tr><td>Brown</td><td>1.85</td></tr>\n",
       "</table>\n"
      ],
      "text/plain": [
       "+--------+-------+\n",
       "| cognome|altezza|\n",
       "+--------+-------+\n",
       "|    Blue|    1.7|\n",
       "|Scarlett|   1.72|\n",
       "|   Brown|   1.85|\n",
       "+--------+-------+"
      ]
     },
     "execution_count": 16,
     "metadata": {},
     "output_type": "execute_result"
    }
   ],
   "source": [
    "df2.select(\"cognome\", \"altezza\")"
   ]
  },
  {
   "cell_type": "code",
   "execution_count": 17,
   "id": "237bd2f4-a409-4b74-ad4d-77c28783821a",
   "metadata": {},
   "outputs": [
    {
     "name": "stdout",
     "output_type": "stream",
     "text": [
      "+-------+--------+-------------------+\n",
      "|summary| cognome|            altezza|\n",
      "+-------+--------+-------------------+\n",
      "|  count|       3|                  3|\n",
      "|   mean|    NULL| 1.7566666666666666|\n",
      "| stddev|    NULL|0.08144527815247084|\n",
      "|    min|    Blue|                1.7|\n",
      "|    max|Scarlett|               1.85|\n",
      "+-------+--------+-------------------+\n",
      "\n"
     ]
    }
   ],
   "source": [
    "df2.select(\"cognome\", \"altezza\").describe().show()"
   ]
  },
  {
   "cell_type": "code",
   "execution_count": 18,
   "id": "7caeb49a-4e93-4d66-a9eb-5a6e87305548",
   "metadata": {},
   "outputs": [
    {
     "data": {
      "text/plain": [
       "[Row(nome='Anna', cognome='Blue', altezza=1.7, peso=60, datanascita=datetime.date(1995, 8, 4), sesso='F'),\n",
       " Row(nome='Viola', cognome='Scarlett', altezza=1.72, peso=62, datanascita=datetime.date(1995, 9, 5), sesso='F'),\n",
       " Row(nome='Maria', cognome='Brown', altezza=1.85, peso=80, datanascita=datetime.date(1996, 1, 1), sesso='F')]"
      ]
     },
     "execution_count": 18,
     "metadata": {},
     "output_type": "execute_result"
    }
   ],
   "source": [
    "df2.collect()"
   ]
  },
  {
   "cell_type": "code",
   "execution_count": 20,
   "id": "dac8562f-742f-4ae7-b760-f6534fbad20f",
   "metadata": {},
   "outputs": [
    {
     "data": {
      "text/plain": [
       "[Row(nome='Anna', cognome='Blue', altezza=1.7, peso=60, datanascita=datetime.date(1995, 8, 4), sesso='F'),\n",
       " Row(nome='Viola', cognome='Scarlett', altezza=1.72, peso=62, datanascita=datetime.date(1995, 9, 5), sesso='F')]"
      ]
     },
     "execution_count": 20,
     "metadata": {},
     "output_type": "execute_result"
    }
   ],
   "source": [
    "df2.take(2)"
   ]
  },
  {
   "cell_type": "code",
   "execution_count": 21,
   "id": "80541475-ca4e-4fd0-8681-7461485fcdab",
   "metadata": {},
   "outputs": [
    {
     "data": {
      "text/html": [
       "<div>\n",
       "<style scoped>\n",
       "    .dataframe tbody tr th:only-of-type {\n",
       "        vertical-align: middle;\n",
       "    }\n",
       "\n",
       "    .dataframe tbody tr th {\n",
       "        vertical-align: top;\n",
       "    }\n",
       "\n",
       "    .dataframe thead th {\n",
       "        text-align: right;\n",
       "    }\n",
       "</style>\n",
       "<table border=\"1\" class=\"dataframe\">\n",
       "  <thead>\n",
       "    <tr style=\"text-align: right;\">\n",
       "      <th></th>\n",
       "      <th>nome</th>\n",
       "      <th>cognome</th>\n",
       "      <th>altezza</th>\n",
       "      <th>peso</th>\n",
       "      <th>datanascita</th>\n",
       "      <th>sesso</th>\n",
       "    </tr>\n",
       "  </thead>\n",
       "  <tbody>\n",
       "    <tr>\n",
       "      <th>0</th>\n",
       "      <td>Anna</td>\n",
       "      <td>Blue</td>\n",
       "      <td>1.70</td>\n",
       "      <td>60</td>\n",
       "      <td>1995-08-04</td>\n",
       "      <td>F</td>\n",
       "    </tr>\n",
       "    <tr>\n",
       "      <th>1</th>\n",
       "      <td>Viola</td>\n",
       "      <td>Scarlett</td>\n",
       "      <td>1.72</td>\n",
       "      <td>62</td>\n",
       "      <td>1995-09-05</td>\n",
       "      <td>F</td>\n",
       "    </tr>\n",
       "    <tr>\n",
       "      <th>2</th>\n",
       "      <td>Maria</td>\n",
       "      <td>Brown</td>\n",
       "      <td>1.85</td>\n",
       "      <td>80</td>\n",
       "      <td>1996-01-01</td>\n",
       "      <td>F</td>\n",
       "    </tr>\n",
       "  </tbody>\n",
       "</table>\n",
       "</div>"
      ],
      "text/plain": [
       "    nome   cognome  altezza  peso datanascita sesso\n",
       "0   Anna      Blue     1.70    60  1995-08-04     F\n",
       "1  Viola  Scarlett     1.72    62  1995-09-05     F\n",
       "2  Maria     Brown     1.85    80  1996-01-01     F"
      ]
     },
     "execution_count": 21,
     "metadata": {},
     "output_type": "execute_result"
    }
   ],
   "source": [
    "df2.toPandas()"
   ]
  }
 ],
 "metadata": {
  "kernelspec": {
   "display_name": "Python 3 (ipykernel)",
   "language": "python",
   "name": "python3"
  },
  "language_info": {
   "codemirror_mode": {
    "name": "ipython",
    "version": 3
   },
   "file_extension": ".py",
   "mimetype": "text/x-python",
   "name": "python",
   "nbconvert_exporter": "python",
   "pygments_lexer": "ipython3",
   "version": "3.10.15"
  }
 },
 "nbformat": 4,
 "nbformat_minor": 5
}
