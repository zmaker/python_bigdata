{
 "cells": [
  {
   "cell_type": "code",
   "execution_count": 1,
   "id": "401acfc5-2bf8-4cd3-a0f7-ceeed241df82",
   "metadata": {},
   "outputs": [],
   "source": [
    "from pyspark import SparkContext\n",
    "from pyspark.sql import SparkSession"
   ]
  },
  {
   "cell_type": "code",
   "execution_count": 2,
   "id": "c9adde95-2f4c-4d7a-a6e5-e18456e1d566",
   "metadata": {},
   "outputs": [],
   "source": [
    "ss = SparkSession.builder.appName('mysession').getOrCreate()\n",
    "sc = ss.sparkContext"
   ]
  },
  {
   "cell_type": "code",
   "execution_count": 3,
   "id": "ff06902a-dc5a-4fdc-88de-243992b7bf7c",
   "metadata": {},
   "outputs": [],
   "source": [
    "nomi = [ 'Rossi Mario 25', 'Bianchi Luigi 23','Verdi Giuseppe 18', 'Anna Blue 28' ]\n",
    "rdd = sc.parallelize(nomi)"
   ]
  },
  {
   "cell_type": "code",
   "execution_count": 4,
   "id": "82833714-cc1a-484a-a938-0ce1ccfd2505",
   "metadata": {},
   "outputs": [
    {
     "data": {
      "text/plain": [
       "['Rossi Mario 25', 'Bianchi Luigi 23', 'Verdi Giuseppe 18', 'Anna Blue 28']"
      ]
     },
     "execution_count": 4,
     "metadata": {},
     "output_type": "execute_result"
    }
   ],
   "source": [
    "rdd.collect()"
   ]
  },
  {
   "cell_type": "code",
   "execution_count": 7,
   "id": "e53f0587-a1af-4f20-9f99-5cb0888ba319",
   "metadata": {},
   "outputs": [
    {
     "data": {
      "text/plain": [
       "[25, 23, 18, 28]"
      ]
     },
     "execution_count": 7,
     "metadata": {},
     "output_type": "execute_result"
    }
   ],
   "source": [
    "rdd1 = rdd.map( lambda riga : int(riga[-2:]) )\n",
    "rdd1.collect()"
   ]
  },
  {
   "cell_type": "code",
   "execution_count": 8,
   "id": "9e336fee-2196-420d-aeb0-b8c955b77750",
   "metadata": {},
   "outputs": [
    {
     "data": {
      "text/plain": [
       "18"
      ]
     },
     "execution_count": 8,
     "metadata": {},
     "output_type": "execute_result"
    }
   ],
   "source": [
    "rdd1.min()"
   ]
  },
  {
   "cell_type": "code",
   "execution_count": 9,
   "id": "0b52f1bb-f18d-45bf-94ea-15205f3d78aa",
   "metadata": {},
   "outputs": [
    {
     "data": {
      "text/plain": [
       "18"
      ]
     },
     "execution_count": 9,
     "metadata": {},
     "output_type": "execute_result"
    }
   ],
   "source": [
    "rdd.map( lambda riga : int(riga[-2:]) ).min()"
   ]
  },
  {
   "cell_type": "code",
   "execution_count": 11,
   "id": "84b4d6cd-ac81-4c5a-879c-14100fa78238",
   "metadata": {},
   "outputs": [
    {
     "data": {
      "text/plain": [
       "[['Rossi', 'Mario', '25'],\n",
       " ['Bianchi', 'Luigi', '23'],\n",
       " ['Verdi', 'Giuseppe', '18'],\n",
       " ['Anna', 'Blue', '28']]"
      ]
     },
     "execution_count": 11,
     "metadata": {},
     "output_type": "execute_result"
    }
   ],
   "source": [
    "rdd1 = rdd.map( lambda riga: riga.split() )\n",
    "rdd1.collect()"
   ]
  },
  {
   "cell_type": "code",
   "execution_count": 13,
   "id": "40025610-a698-425d-8cbe-015d32335735",
   "metadata": {},
   "outputs": [
    {
     "data": {
      "text/plain": [
       "[('Mario Rossi', 25),\n",
       " ('Luigi Bianchi', 23),\n",
       " ('Giuseppe Verdi', 18),\n",
       " ('Blue Anna', 28)]"
      ]
     },
     "execution_count": 13,
     "metadata": {},
     "output_type": "execute_result"
    }
   ],
   "source": [
    "rdd2 = rdd1.map( lambda x : ( f\"{x[1]} {x[0]}\" , int(x[2]) ) )\n",
    "rdd2.collect()"
   ]
  },
  {
   "cell_type": "code",
   "execution_count": 17,
   "id": "5a7fcfbc-7a71-4f8e-ac58-711eb712cc43",
   "metadata": {},
   "outputs": [
    {
     "data": {
      "text/plain": [
       "[('Blue Anna', 28),\n",
       " ('Mario Rossi', 25),\n",
       " ('Luigi Bianchi', 23),\n",
       " ('Giuseppe Verdi', 18)]"
      ]
     },
     "execution_count": 17,
     "metadata": {},
     "output_type": "execute_result"
    }
   ],
   "source": [
    "rdd3 = rdd2.sortBy( lambda tup : tup[1], ascending=False )\n",
    "rdd3.collect()"
   ]
  },
  {
   "cell_type": "code",
   "execution_count": 19,
   "id": "8db7d67f-6929-442b-9566-44b5794a34e9",
   "metadata": {},
   "outputs": [
    {
     "data": {
      "text/plain": [
       "[('P', 12),\n",
       " ('D', 23),\n",
       " ('P', 34),\n",
       " ('D', 45),\n",
       " ('P', 56),\n",
       " ('D', 67),\n",
       " ('P', 78),\n",
       " ('D', 89),\n",
       " ('P', 32),\n",
       " ('D', 43),\n",
       " ('P', 54),\n",
       " ('D', 65),\n",
       " ('P', 76),\n",
       " ('D', 87),\n",
       " ('P', 98)]"
      ]
     },
     "execution_count": 19,
     "metadata": {},
     "output_type": "execute_result"
    }
   ],
   "source": [
    "rdd4 = sc.parallelize( [12,23,34,45,56,67,78,89,32,43,54,65,76,87,98])\n",
    "rdd5 = rdd4.map( lambda n : ( ('D' if (n%2) else 'P'), n ) )\n",
    "rdd5.collect()\n"
   ]
  },
  {
   "cell_type": "code",
   "execution_count": null,
   "id": "715d1a0c-3153-46c7-8915-7543590a79e5",
   "metadata": {},
   "outputs": [],
   "source": [
    "rdd5.reduceByKey( lambda  )"
   ]
  }
 ],
 "metadata": {
  "kernelspec": {
   "display_name": "Python 3 (ipykernel)",
   "language": "python",
   "name": "python3"
  },
  "language_info": {
   "codemirror_mode": {
    "name": "ipython",
    "version": 3
   },
   "file_extension": ".py",
   "mimetype": "text/x-python",
   "name": "python",
   "nbconvert_exporter": "python",
   "pygments_lexer": "ipython3",
   "version": "3.10.15"
  }
 },
 "nbformat": 4,
 "nbformat_minor": 5
}
