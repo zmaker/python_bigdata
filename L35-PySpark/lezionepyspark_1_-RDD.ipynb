{
 "cells": [
  {
   "cell_type": "code",
   "execution_count": 1,
   "id": "2a315c40-2e82-44a6-b78d-84e96deaf674",
   "metadata": {},
   "outputs": [],
   "source": [
    "from pyspark import SparkContext\n",
    "from pyspark.sql import SparkSession"
   ]
  },
  {
   "cell_type": "code",
   "execution_count": 2,
   "id": "faecd65d-8268-4017-b815-2b923deb1525",
   "metadata": {},
   "outputs": [],
   "source": [
    "ss = SparkSession.builder.appName('mysession').getOrCreate()\n",
    "sc = ss.sparkContext"
   ]
  },
  {
   "cell_type": "code",
   "execution_count": 3,
   "id": "d7251fde-223d-4e46-b128-973c0c4e54a9",
   "metadata": {},
   "outputs": [
    {
     "data": {
      "text/plain": [
       "ParallelCollectionRDD[0] at readRDDFromFile at PythonRDD.scala:289"
      ]
     },
     "execution_count": 3,
     "metadata": {},
     "output_type": "execute_result"
    }
   ],
   "source": [
    "rdd = sc.parallelize([1,2,3,4,5,6,7,8,9])\n",
    "rdd"
   ]
  },
  {
   "cell_type": "code",
   "execution_count": 7,
   "id": "4670abc4-753b-434b-ae54-9bf81a89e564",
   "metadata": {},
   "outputs": [
    {
     "name": "stdout",
     "output_type": "stream",
     "text": [
      "count 9\n",
      "min 1\n",
      "max 9\n",
      "media 5.0\n",
      "sum 45\n"
     ]
    }
   ],
   "source": [
    "print(\"count\", rdd.count())\n",
    "print(\"min\", rdd.min())\n",
    "print(\"max\", rdd.max())\n",
    "print(\"media\", rdd.mean())\n",
    "print(\"sum\", rdd.sum())\n"
   ]
  },
  {
   "cell_type": "code",
   "execution_count": 6,
   "id": "d61a1d09-cdd7-474a-a920-d844f794e1e9",
   "metadata": {},
   "outputs": [
    {
     "name": "stdout",
     "output_type": "stream",
     "text": [
      "count 11\n"
     ]
    }
   ],
   "source": [
    "rdd2 = sc.textFile('numeri.txt')\n",
    "print(\"count\", rdd2.count())\n",
    "\n",
    "# load di una folder\n",
    "#rdd2 = sc.textFile('/cartella')\n",
    "\n",
    "# load da hdfs\n",
    "#rdd2 = sc.textFile('hdfs://localhost:9000/file.txt')\n"
   ]
  },
  {
   "cell_type": "code",
   "execution_count": 8,
   "id": "ee87386e-5024-4793-aec3-d4116d6534dc",
   "metadata": {},
   "outputs": [
    {
     "data": {
      "text/plain": [
       "(count: 9, mean: 5.0, stdev: 2.581988897471611, max: 9.0, min: 1.0)"
      ]
     },
     "execution_count": 8,
     "metadata": {},
     "output_type": "execute_result"
    }
   ],
   "source": [
    "rdd.stats()"
   ]
  },
  {
   "cell_type": "code",
   "execution_count": 9,
   "id": "2abf9f78-f5b9-439b-9524-cd4419a0b2e1",
   "metadata": {},
   "outputs": [
    {
     "data": {
      "text/plain": [
       "2.581988897471611"
      ]
     },
     "execution_count": 9,
     "metadata": {},
     "output_type": "execute_result"
    }
   ],
   "source": [
    "rdd.stats().stdev()"
   ]
  },
  {
   "cell_type": "markdown",
   "id": "b5c5b72f-2500-447b-abd6-523dbb7a071c",
   "metadata": {},
   "source": [
    "**foreach**"
   ]
  },
  {
   "cell_type": "code",
   "execution_count": 11,
   "id": "7845a1af-ce76-4096-a804-7daa45d16942",
   "metadata": {},
   "outputs": [
    {
     "name": "stderr",
     "output_type": "stream",
     "text": [
      "1 LOW\n",
      "2 LOW\n",
      "3 MID\n",
      "4 MID\n",
      "5 MID\n",
      "6 MID\n",
      "7 MID\n",
      "8 HI\n",
      "9 HI\n"
     ]
    }
   ],
   "source": [
    "def fuzzyval(n):\n",
    "    if (n<3):\n",
    "        print(f\"{n} LOW\")\n",
    "    elif n < 8:\n",
    "        print(f\"{n} MID\")\n",
    "    else:\n",
    "        print(f\"{n} HI\")\n",
    "\n",
    "rdd.foreach(fuzzyval)\n",
    "    "
   ]
  },
  {
   "cell_type": "code",
   "execution_count": null,
   "id": "3d82c79f-01dd-4e9c-99cc-09e8fee86dd7",
   "metadata": {},
   "outputs": [],
   "source": [
    "rdd.foreach( lambda x: print( f\"{x} HI\" if x > 5 else _ ) )"
   ]
  }
 ],
 "metadata": {
  "kernelspec": {
   "display_name": "Python 3 (ipykernel)",
   "language": "python",
   "name": "python3"
  },
  "language_info": {
   "codemirror_mode": {
    "name": "ipython",
    "version": 3
   },
   "file_extension": ".py",
   "mimetype": "text/x-python",
   "name": "python",
   "nbconvert_exporter": "python",
   "pygments_lexer": "ipython3",
   "version": "3.10.15"
  }
 },
 "nbformat": 4,
 "nbformat_minor": 5
}
