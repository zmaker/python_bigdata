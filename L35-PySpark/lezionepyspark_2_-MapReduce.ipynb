{
 "cells": [
  {
   "cell_type": "markdown",
   "id": "bfe20314-4e85-4ab8-adbc-7b8382688746",
   "metadata": {},
   "source": [
    "## MapReduce in pySpark"
   ]
  },
  {
   "cell_type": "code",
   "execution_count": 1,
   "id": "e6bcee4a-2b4b-4d1b-afa4-aaac0476aee6",
   "metadata": {},
   "outputs": [],
   "source": [
    "from pyspark import SparkContext\n",
    "from pyspark.sql import SparkSession"
   ]
  },
  {
   "cell_type": "code",
   "execution_count": 2,
   "id": "4ff6e80f-8af0-4b10-a091-db55cbc1b0f6",
   "metadata": {},
   "outputs": [],
   "source": [
    "ss = SparkSession.builder.appName(\"myMR\").getOrCreate()\n",
    "sc = ss.sparkContext"
   ]
  },
  {
   "cell_type": "code",
   "execution_count": 4,
   "id": "0455caca-0044-4cd6-b082-30118fc8aa9f",
   "metadata": {},
   "outputs": [
    {
     "data": {
      "text/plain": [
       "['Rossi Mario 25', 'Bianchi luigi 27', 'Verdi Giuseppe 34', 'Anna Rimoldi 45']"
      ]
     },
     "execution_count": 4,
     "metadata": {},
     "output_type": "execute_result"
    }
   ],
   "source": [
    "nomi = ['Rossi Mario 25', 'Bianchi luigi 27', 'Verdi Giuseppe 34', 'Anna Rimoldi 45']\n",
    "rdd = sc.parallelize(nomi)\n",
    "rdd.collect()"
   ]
  },
  {
   "cell_type": "code",
   "execution_count": 5,
   "id": "fa768da2-f268-4d1f-a6bf-3df1d49a5217",
   "metadata": {},
   "outputs": [
    {
     "data": {
      "text/plain": [
       "[25, 27, 34, 45]"
      ]
     },
     "execution_count": 5,
     "metadata": {},
     "output_type": "execute_result"
    }
   ],
   "source": [
    "rdd1 = rdd.map( lambda riga : int(riga[-2:]) )\n",
    "rdd1.collect()"
   ]
  },
  {
   "cell_type": "code",
   "execution_count": 6,
   "id": "989bba97-aac1-420f-88f5-b29e5d55c0e1",
   "metadata": {},
   "outputs": [
    {
     "data": {
      "text/plain": [
       "25"
      ]
     },
     "execution_count": 6,
     "metadata": {},
     "output_type": "execute_result"
    }
   ],
   "source": [
    "rdd1.min()"
   ]
  },
  {
   "cell_type": "markdown",
   "id": "2394c9d0-36c3-4f94-8bca-e0105623108c",
   "metadata": {},
   "source": [
    "**Esempio 2** creazione tuple"
   ]
  },
  {
   "cell_type": "code",
   "execution_count": 7,
   "id": "da2d2fc3-6152-40a0-a7a9-7e7f3657700b",
   "metadata": {},
   "outputs": [
    {
     "data": {
      "text/plain": [
       "[['Rossi', 'Mario', '25'],\n",
       " ['Bianchi', 'luigi', '27'],\n",
       " ['Verdi', 'Giuseppe', '34'],\n",
       " ['Anna', 'Rimoldi', '45']]"
      ]
     },
     "execution_count": 7,
     "metadata": {},
     "output_type": "execute_result"
    }
   ],
   "source": [
    "rdd2 = rdd.map( lambda riga : riga.split())\n",
    "rdd2.collect()"
   ]
  },
  {
   "cell_type": "code",
   "execution_count": 8,
   "id": "63c82720-a4db-4d4c-9922-5c72e4c778dd",
   "metadata": {},
   "outputs": [
    {
     "data": {
      "text/plain": [
       "[('Mario Rossi', 25),\n",
       " ('luigi Bianchi', 27),\n",
       " ('Giuseppe Verdi', 34),\n",
       " ('Rimoldi Anna', 45)]"
      ]
     },
     "execution_count": 8,
     "metadata": {},
     "output_type": "execute_result"
    }
   ],
   "source": [
    "rdd3 = rdd2.map( lambda x : ( f\"{x[1]} {x[0]}\", int(x[2]) ) )\n",
    "rdd3.collect()"
   ]
  },
  {
   "cell_type": "code",
   "execution_count": 9,
   "id": "920f6add-9a2a-4f86-9027-f090b2d5a5d4",
   "metadata": {},
   "outputs": [
    {
     "data": {
      "text/plain": [
       "[('Rimoldi Anna', 45),\n",
       " ('Giuseppe Verdi', 34),\n",
       " ('luigi Bianchi', 27),\n",
       " ('Mario Rossi', 25)]"
      ]
     },
     "execution_count": 9,
     "metadata": {},
     "output_type": "execute_result"
    }
   ],
   "source": [
    "rdd4 = rdd3.sortBy( lambda tup : tup[1], ascending=False )\n",
    "rdd4.collect()"
   ]
  },
  {
   "cell_type": "markdown",
   "id": "efe25c21-723e-4f98-acaf-a98bfc148df3",
   "metadata": {},
   "source": [
    "**Esempio 3** analisi numeri pari e dispari\n"
   ]
  },
  {
   "cell_type": "code",
   "execution_count": 10,
   "id": "6148ba9f-a932-4c98-945c-d27af1176948",
   "metadata": {},
   "outputs": [
    {
     "data": {
      "text/plain": [
       "[('P', 12),\n",
       " ('D', 23),\n",
       " ('P', 34),\n",
       " ('D', 45),\n",
       " ('P', 56),\n",
       " ('D', 67),\n",
       " ('P', 78),\n",
       " ('D', 89),\n",
       " ('P', 32),\n",
       " ('D', 43),\n",
       " ('P', 54),\n",
       " ('D', 65),\n",
       " ('P', 76),\n",
       " ('D', 87),\n",
       " ('P', 98)]"
      ]
     },
     "execution_count": 10,
     "metadata": {},
     "output_type": "execute_result"
    }
   ],
   "source": [
    "rdd5 = sc.parallelize(  [12,23,34,45,56,67,78,89,32,43,54,65,76,87,98] )\n",
    "rdd6 = rdd5.map( lambda n : ( ('D' if (n%2) else 'P') , n ) )\n",
    "rdd6.collect()"
   ]
  },
  {
   "cell_type": "code",
   "execution_count": 13,
   "id": "672fe4ba-f238-44dc-b7ce-06e231cf4904",
   "metadata": {},
   "outputs": [
    {
     "data": {
      "text/plain": [
       "[('P', 440), ('D', 419)]"
      ]
     },
     "execution_count": 13,
     "metadata": {},
     "output_type": "execute_result"
    }
   ],
   "source": [
    "rdd7 = rdd6.reduceByKey( lambda a,b : a+b )\n",
    "rdd7.collect()"
   ]
  }
 ],
 "metadata": {
  "kernelspec": {
   "display_name": "Python 3 (ipykernel)",
   "language": "python",
   "name": "python3"
  },
  "language_info": {
   "codemirror_mode": {
    "name": "ipython",
    "version": 3
   },
   "file_extension": ".py",
   "mimetype": "text/x-python",
   "name": "python",
   "nbconvert_exporter": "python",
   "pygments_lexer": "ipython3",
   "version": "3.10.15"
  }
 },
 "nbformat": 4,
 "nbformat_minor": 5
}
