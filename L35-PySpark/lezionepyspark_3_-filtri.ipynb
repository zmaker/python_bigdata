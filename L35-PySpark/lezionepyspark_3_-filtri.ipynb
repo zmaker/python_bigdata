{
 "cells": [
  {
   "cell_type": "code",
   "execution_count": 1,
   "id": "5eb376dc-9b66-4095-80dd-9517e3bd03fa",
   "metadata": {},
   "outputs": [],
   "source": [
    "from pyspark import SparkContext\n",
    "from pyspark.sql import SparkSession\n",
    "ss = SparkSession.builder.appName('mysession').getOrCreate()\n",
    "sc = ss.sparkContext"
   ]
  },
  {
   "cell_type": "code",
   "execution_count": 2,
   "id": "609f9405-13c7-48db-a9ee-297d5fe09634",
   "metadata": {},
   "outputs": [],
   "source": [
    "rdd = sc.parallelize( [12,23,34,45,56,67,78,89,32,43,54,65,76,87,98] )"
   ]
  },
  {
   "cell_type": "code",
   "execution_count": 3,
   "id": "45ae603a-b087-4079-98d7-9825b9c85af3",
   "metadata": {},
   "outputs": [
    {
     "data": {
      "text/plain": [
       "[12, 23, 34, 45, 32, 43]"
      ]
     },
     "execution_count": 3,
     "metadata": {},
     "output_type": "execute_result"
    }
   ],
   "source": [
    "rdd1 = rdd.filter( lambda n: n < 50 )\n",
    "rdd1.collect()"
   ]
  },
  {
   "cell_type": "code",
   "execution_count": 4,
   "id": "cb5b0830-c570-4098-a6df-7691c5df197a",
   "metadata": {},
   "outputs": [
    {
     "data": {
      "text/plain": [
       "[34]"
      ]
     },
     "execution_count": 4,
     "metadata": {},
     "output_type": "execute_result"
    }
   ],
   "source": [
    "rdd2 = rdd.filter( lambda n: n == 34 )\n",
    "rdd2.collect()"
   ]
  },
  {
   "cell_type": "code",
   "execution_count": 7,
   "id": "dfab2d28-cb71-401e-aedf-a7e418504a66",
   "metadata": {},
   "outputs": [
    {
     "data": {
      "text/plain": [
       "[('LO', [12, 23, 34, 45, 32, 43]),\n",
       " ('HI', [56, 67, 78, 89, 54, 65, 76, 87, 98])]"
      ]
     },
     "execution_count": 7,
     "metadata": {},
     "output_type": "execute_result"
    }
   ],
   "source": [
    "rdd3 = rdd.groupBy( lambda n : 'LO' if n < 50 else 'HI' ).mapValues( list )\n",
    "rdd3.collect()"
   ]
  },
  {
   "cell_type": "code",
   "execution_count": 8,
   "id": "81f5a2bf-e291-4ab0-8e6f-27de73e0adfb",
   "metadata": {},
   "outputs": [
    {
     "data": {
      "text/plain": [
       "[('LO', 45), ('HI', 98)]"
      ]
     },
     "execution_count": 8,
     "metadata": {},
     "output_type": "execute_result"
    }
   ],
   "source": [
    "rdd3 = rdd.groupBy( lambda n : 'LO' if n < 50 else 'HI' ).mapValues( max )\n",
    "rdd3.collect()"
   ]
  },
  {
   "cell_type": "code",
   "execution_count": 10,
   "id": "3359f95b-a7c5-40ba-8b36-7b716e562869",
   "metadata": {},
   "outputs": [
    {
     "data": {
      "text/plain": [
       "[('LO', (12, 45)), ('HI', (54, 98))]"
      ]
     },
     "execution_count": 10,
     "metadata": {},
     "output_type": "execute_result"
    }
   ],
   "source": [
    "rdd3 = rdd.groupBy( lambda n : 'LO' if n < 50 else 'HI' ).mapValues( lambda x : (min(x), max(x) ))\n",
    "rdd3.collect()"
   ]
  },
  {
   "cell_type": "markdown",
   "id": "e7c667a6-6419-460a-8e32-f20f3201c17e",
   "metadata": {},
   "source": [
    "## partizioni"
   ]
  },
  {
   "cell_type": "code",
   "execution_count": 11,
   "id": "3dbd6912-15b0-4e3d-96fc-0129b3c7973b",
   "metadata": {},
   "outputs": [
    {
     "data": {
      "text/plain": [
       "1"
      ]
     },
     "execution_count": 11,
     "metadata": {},
     "output_type": "execute_result"
    }
   ],
   "source": [
    "rdd4 = sc.parallelize(range(1, 50))\n",
    "rdd4.getNumPartitions()"
   ]
  },
  {
   "cell_type": "code",
   "execution_count": 12,
   "id": "6921758a-916d-4aa0-9efb-7ada80ca1f2e",
   "metadata": {},
   "outputs": [
    {
     "data": {
      "text/plain": [
       "4"
      ]
     },
     "execution_count": 12,
     "metadata": {},
     "output_type": "execute_result"
    }
   ],
   "source": [
    "rdd5 = sc.parallelize(range(1, 50), 4)\n",
    "rdd5.getNumPartitions()"
   ]
  },
  {
   "cell_type": "code",
   "execution_count": 14,
   "id": "ce2415e0-4127-449b-83f2-7a08b67af0e2",
   "metadata": {},
   "outputs": [
    {
     "data": {
      "text/plain": [
       "[[1, 2, 3, 4, 5, 6, 7, 8, 9, 10, 11, 12],\n",
       " [13, 14, 15, 16, 17, 18, 19, 20, 21, 22, 23, 24],\n",
       " [25, 26, 27, 28, 29, 30, 31, 32, 33, 34, 35, 36],\n",
       " [37, 38, 39, 40, 41, 42, 43, 44, 45, 46, 47, 48, 49]]"
      ]
     },
     "execution_count": 14,
     "metadata": {},
     "output_type": "execute_result"
    }
   ],
   "source": [
    "rdd5.glom().collect()"
   ]
  },
  {
   "cell_type": "code",
   "execution_count": 17,
   "id": "0c947ff9-e73c-4c23-b130-f023ac048318",
   "metadata": {},
   "outputs": [
    {
     "data": {
      "text/plain": [
       "[[(0, 7), (0, 14), (0, 21), (0, 28), (0, 35), (0, 42), (0, 49)],\n",
       " [(1, 1), (1, 8), (1, 15), (1, 22), (1, 29), (1, 36), (1, 43)],\n",
       " [(2, 2), (2, 9), (2, 16), (2, 23), (2, 30), (2, 37), (2, 44)],\n",
       " [(3, 3), (3, 10), (3, 17), (3, 24), (3, 31), (3, 38), (3, 45)],\n",
       " [(4, 4), (4, 11), (4, 18), (4, 25), (4, 32), (4, 39), (4, 46)],\n",
       " [(5, 5), (5, 12), (5, 19), (5, 26), (5, 33), (5, 40), (5, 47)],\n",
       " [(6, 6), (6, 13), (6, 20), (6, 27), (6, 34), (6, 41), (6, 48)]]"
      ]
     },
     "execution_count": 17,
     "metadata": {},
     "output_type": "execute_result"
    }
   ],
   "source": [
    "rdd6 = rdd4.map( lambda x : (x%7, x) ).partitionBy(7)\n",
    "rdd6.glom().collect()"
   ]
  },
  {
   "cell_type": "code",
   "execution_count": 18,
   "id": "a4e97064-b7f7-4158-9239-9ff85e3024f0",
   "metadata": {},
   "outputs": [
    {
     "data": {
      "text/plain": [
       "[[(0, 7),\n",
       "  (0, 14),\n",
       "  (0, 21),\n",
       "  (0, 28),\n",
       "  (0, 35),\n",
       "  (0, 42),\n",
       "  (0, 49),\n",
       "  (3, 3),\n",
       "  (3, 10),\n",
       "  (3, 17),\n",
       "  (3, 24),\n",
       "  (3, 31),\n",
       "  (3, 38),\n",
       "  (3, 45)],\n",
       " [(1, 1),\n",
       "  (1, 8),\n",
       "  (1, 15),\n",
       "  (1, 22),\n",
       "  (1, 29),\n",
       "  (1, 36),\n",
       "  (1, 43),\n",
       "  (4, 4),\n",
       "  (4, 11),\n",
       "  (4, 18),\n",
       "  (4, 25),\n",
       "  (4, 32),\n",
       "  (4, 39),\n",
       "  (4, 46),\n",
       "  (6, 6),\n",
       "  (6, 13),\n",
       "  (6, 20),\n",
       "  (6, 27),\n",
       "  (6, 34),\n",
       "  (6, 41),\n",
       "  (6, 48)],\n",
       " [(2, 2),\n",
       "  (2, 9),\n",
       "  (2, 16),\n",
       "  (2, 23),\n",
       "  (2, 30),\n",
       "  (2, 37),\n",
       "  (2, 44),\n",
       "  (5, 5),\n",
       "  (5, 12),\n",
       "  (5, 19),\n",
       "  (5, 26),\n",
       "  (5, 33),\n",
       "  (5, 40),\n",
       "  (5, 47)]]"
      ]
     },
     "execution_count": 18,
     "metadata": {},
     "output_type": "execute_result"
    }
   ],
   "source": [
    "rdd7 = rdd6.coalesce(3)\n",
    "rdd7.glom().collect()"
   ]
  },
  {
   "cell_type": "code",
   "execution_count": 21,
   "id": "216c17e6-0248-4468-aba9-d3f087785683",
   "metadata": {},
   "outputs": [],
   "source": [
    "rdd7.saveAsTextFile('mydata')"
   ]
  }
 ],
 "metadata": {
  "kernelspec": {
   "display_name": "Python 3 (ipykernel)",
   "language": "python",
   "name": "python3"
  },
  "language_info": {
   "codemirror_mode": {
    "name": "ipython",
    "version": 3
   },
   "file_extension": ".py",
   "mimetype": "text/x-python",
   "name": "python",
   "nbconvert_exporter": "python",
   "pygments_lexer": "ipython3",
   "version": "3.10.15"
  }
 },
 "nbformat": 4,
 "nbformat_minor": 5
}
